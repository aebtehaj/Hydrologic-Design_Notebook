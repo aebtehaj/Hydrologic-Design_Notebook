{
 "cells": [
  {
   "cell_type": "markdown",
   "metadata": {},
   "source": [
    "[![Open In Colab](https://colab.research.google.com/assets/colab-badge.svg)](https://colab.research.google.com/github/aebtehaj/Hydrologic-Design_Notebook/blob/main/Chapter1.ipynb)"
   ]
  },
  {
   "cell_type": "markdown",
   "metadata": {},
   "source": [
    "<a id=\"0\"></a>\n",
    "<div style=\"text-align: center; color: #1877F2\">\n",
    "  <h1>Hydrologic Design 4501</h1>\n",
    "</div>\n",
    "\n",
    "<div style=\"text-align: center; font-weight: bold;\">\n",
    "  Chapter 1: Hydrologic Water Cycle and Mass Balance\n",
    "</div>\n",
    "\n",
    "<div style=\"text-align: center; margin-bottom: 0.5em;\">\n",
    "  Mohammadali Olyaei and Ardehsir Ebtehaj\n",
    "</div>\n",
    "\n",
    "<div style=\"text-align: center; font-weight: bold;\">\n",
    "  University of Minnesota\n",
    "</div>\n",
    "\n",
    "<div style=\"text-align: center;\">\n",
    "  <img src=\"Figures/Ch1/Ch1.gif\" alt=\"Hydrologic Water Cycle and Mass Balance GIF\">\n",
    "</div>"
   ]
  },
  {
   "cell_type": "markdown",
   "metadata": {},
   "source": [
    "<a id=\"1\"></a>\n",
    "# 1- Introduction"
   ]
  },
  {
   "cell_type": "markdown",
   "metadata": {},
   "source": [
    "  Spread of human population and formation of civilizations are correlated with the availability of fresh water. \n",
    "\n",
    "  The Mesopotamian civilization, widely considered as the cradle of civilization, was in the area between the Tigris and Euphrates Rivers. The contemporary distribution of the human population in the United States is not an exception. It is easy to see that the climatology of precipitation somewhat has dictated the density of human population in the U.S. Most of the biggest cities and economies of the country are in the vicinity of lakes, rivers, and estuaries.\n",
    "\n",
    "- **Hydrology** is the study of water and its transport in all of its phases (i.e., solid, liquid, vapor) across different elements of the **hydrosphere**, which is a region between 1 km deep in the **lithosphere** and 15 km high in the **atmosphere**\n",
    "\n",
    " \n",
    "  These days, **hydrologic sciences** are largely focused on the terrestrial water cycle on continental and global scales under natural conditions or anthropogenic impacts. **Hydrologic and hydraulic engineering** involves the use and transport of water through human control or intervention.\n",
    "\n",
    "<div style=\"text-align: center;\">\n",
    "  <img src=\"Figures/Ch1/Ch1F1a.png\" alt=\"Figure 1a\" style=\"width: auto; height: 250px;\">\n",
    "  <img src=\"Figures/Ch1/Ch1F1b.png\" alt=\"Figure 1b\" style=\"width: auto; height: 250px;\">\n",
    "</div>"
   ]
  },
  {
   "cell_type": "markdown",
   "metadata": {},
   "source": [
    "In Minnesota, the population is centered around the Twin Cities metropolitan area, which is at the confluence of the Mississippi and Minnesota rivers. Twin Cities are also located in the southeastern portion of the state that receives the most amount rainfall.\n",
    "\n",
    "<div style=\"text-align: center;\">\n",
    "  <img src=\"Figures/Ch1/Ch1F2.png\" alt=\"Figure 2\" style=\"width: 600px; height: auto;\">\n",
    "</div>"
   ]
  },
  {
   "cell_type": "markdown",
   "metadata": {},
   "source": [
    "<a id=\"1\"></a> <br>\n",
    "# 2- Hydrology and Water Resources Management"
   ]
  },
  {
   "cell_type": "markdown",
   "metadata": {},
   "source": [
    "For engineers, hydrologic knowledge is applied to the use and control of water resources on the land areas of the Earth, mainly for the following purposes:\n",
    "\n",
    "- Water resource management and supply\n",
    "- Design of hydraulic structures\n",
    "- Wastewater treatment\n",
    "- Irrigation and drainage\n",
    "- Hydropower, flood, and drought control\n",
    "- Navigation and erosion\n",
    "- Fisheries and wildlife protection\n",
    "\n",
    "<div style=\"text-align: center;\">\n",
    "  <img src=\"Figures/Ch1/Ch1F3a.jpg\" alt=\"Figure 3a\" style=\"width: auto; height: 200px;\">\n",
    "  <img src=\"Figures/Ch1/Ch1F3b.jpg\" alt=\"Figure 3b\" style=\"width: auto; height: 200px;\">\n",
    "  <img src=\"Figures/Ch1/Ch1F3c.jpg\" alt=\"Figure 3c\" style=\"width: auto; height: 200px;\">\n",
    "</div>"
   ]
  },
  {
   "cell_type": "markdown",
   "metadata": {},
   "source": [
    "Water resources management is an interdisciplinary field that involves branches of biological sciences, engineering, physical science, and social sciences.\n",
    "\n",
    "Water resource engineering largely involves hydrologic and hydraulic processes for water supply and water excess management as well as environmental restoration. The movement of water is explained through the laws of fluid mechanics. Application of fluid mechanics for civil engineers often manifest itself in explaining hydrologic and hydraulic processes.\n",
    "\n",
    "- **Hydrologic processes** (e.g., precipitation, evaporation, runoff) involve the movement of water across different natural reservoirs such as between soil and atmosphere. The field of **eco-hydrology** explains the intersection of hydrologic and ecological processes such as plants.\n",
    "- **Hydraulic processes** include three types of water flows:<strong> (1) pressurized pipe flows, (2) open channel flows, and (3) ground-water flows.\n",
    "\n",
    "<div style=\"text-align: center;\">\n",
    "  <img src=\"Figures/Ch1/Ch1F4.jpg\" alt=\"Figure 4\" style=\"width: 500px; height: auto;\">\n",
    "</div>"
   ]
  },
  {
   "cell_type": "markdown",
   "metadata": {},
   "source": [
    "<a id=\"2\"></a> <br>\n",
    "# 3- Global Freshwater Resources"
   ]
  },
  {
   "cell_type": "markdown",
   "metadata": {},
   "source": [
    "The following table reports **water reservoirs of the Earth**. As is evident, the largest reservoir of freshwater is in glaciers (i.e., 1.74% of total water and 68.7% of global freshwater) and mainly in the Antarctic and Greenland ice sheets. As reported, water and lakes and river are less than 0.3% of total freshwater on Earth.\n",
    "\n",
    "\n",
    "<div style=\"text-align: center;\">\n",
    "  <img src=\"Figures/Ch1/Ch1F5.jpg\" alt=\"Figure 5\" style=\"width: 500px; height: auto;\">\n",
    "</div>"
   ]
  },
  {
   "cell_type": "markdown",
   "metadata": {},
   "source": [
    "<a id=\"3\"></a> <br>\n",
    "# 4- Water Use in the United States"
   ]
  },
  {
   "cell_type": "markdown",
   "metadata": {},
   "source": [
    "Water use from a hydrologic perspective is defined as all water flows that are results of human intervention in the hydrologic cycle. The national water use information program conducted by the United States Geological Survey (USGS) distinguishes the following water-use flows as follows:\n",
    "\n",
    "- waterwithdrawals for off-stream purposes\n",
    "- water deliveries at point of use or quantities released after use,\n",
    "- consumptive use\n",
    "- conveyance loss\n",
    "- reclaimed wastewater\n",
    "- return flow \n",
    "- in-stream flow. \n",
    "\n",
    "<div style=\"text-align: center;\">\n",
    "  <img src=\"Figures/Ch1/Ch1F6.jpg\" alt=\"Figure 6\" style=\"width: 500px; height: auto;\">\n",
    "</div>\n",
    "\n",
    "\n",
    "<div style=\"text-align: center;\">\n",
    "  <img src=\"Figures/Ch1/Ch1F7.jpg\" alt=\"Figure 7\" style=\"width: 500px; height: auto;\">\n",
    "</div>\n",
    "\n",
    "<div style=\"text-align: center\">\n",
    "  The relationships among the human-made flows at various points of measurement are illustrated in the left and an estimate of water use in the United States is shown on the right-hand side in billion gallons per day [bgd].\n",
    "</div>"
   ]
  },
  {
   "cell_type": "markdown",
   "metadata": {},
   "source": [
    "<a id=\"4\"></a> <br>\n",
    "# 5- Global Water Cycle"
   ]
  },
  {
   "cell_type": "markdown",
   "metadata": {},
   "source": [
    "**Hydrologic cycle** occurs through **water fluxes** across different water reservoirs.\n",
    "\n",
    "**Water flux is the mass of water, per unit area, per time across the water reservoirs in the hydrosphere** $\\mathrm{[kgm^{-2}s^{-1}]}$. If we divide the flux of water by its density the unit will be $\\mathrm{[m^{3}s^{-1}]}$, which is the unit of <strong>flow dischrage</strong> or the <strong>volumetirc water flux</strong>.The water fluxes can be in various phases such as vapor, liquid, and/or solid.\n",
    "\n",
    "Depending on the net outflow discharge $\\mathrm{Q[m^{3}s^{-1}]}$ and volume of these reservoirs , each has a different **residence time** $\\mathrm{t_r=\\frac{V}{Q}[s]}$. The residence time of the main water reservoirs are:\n",
    "\n",
    "\n",
    "- Oceans (~2500 yr)\n",
    "- Groundwater (~8 yr)\n",
    "- consumptive use\n",
    "- Lakes and rivers (~88 days)\n",
    "- Soil moisture (~47 days),\n",
    "- Atmosphere (~9 days).\n",
    "\n",
    "Among these reservoirs, the atmosphere shows the minimum residence time, an indication of its fast-evolving dynamics. Groundwater residence time needs to be taken into consideration for sustainable developments in arid and semi-arid regions.\n",
    "The National Aeronautics and Space Administration (NASA) of the United States prepared a clip (link: NASA: Earth's Water Cycle) that shows the global hydrologic water cycle and the role of Earth-observing satellites in measuring its changes.\n",
    "A conceptual schematic of the hydrologic water cycle and involved processes and water fluxes is shown in the following figure.\n",
    "\n",
    "\n",
    "<div style=\"text-align: center;\">\n",
    "  <img src=\"Figures/Ch1/Ch1F8.png\" alt=\"Figure 8\" style=\"width: 600px; height: auto;\">\n",
    "</div>\n",
    "\n",
    "\n",
    "<div style=\"text-align: center;\">\n",
    "  <img src=\"Figures/Ch1/Ch1.gif\" alt=\"Figure 9\" style=\"width: 600px; height: auto;\">\n",
    "</div>\n",
    "\n",
    " \n",
    "  - **Precipitation:** Conversion of atmospheric water to liquid or solid water that reaches the earth's surface. The typical unit is $\\mathrm{[mmhr^{-1}]}$-- volumeric flux of water per area.\n",
    "  - **Interception:** Precipitation that does not reach the soil, but is intercepted by the leaves, branches of plants and canopy.\n",
    "  - **Throughfall:** Flux of intercepted precipitation water from plants' leaves and stems to the soil surface.\n",
    "  - **Infiltration:** Downward flux of water at the soil surface. The typical unit is $\\mathrm{[mmhr^{-1}]}$ -- volumeric flux of water per area.\n",
    "  - **Overland flow:** The portion of rain, snow or irrigation water that is more than the surface infiltration capacity and flows over land surface and enters into the channel flow.\n",
    "  - **Interflow:** Lateral flux of water in a shallow depth, above the groundwater table, into the streams. \n",
    "  - **Percolation:** Downward flux of water between the soil surface and water table.\n",
    "  - **Recharge:** Downward flux of water at the water table. This is the flux that replenishes the groundwater.\n",
    "  - **Baseflow:** Lateral flow of groundwater into the stream flows blow the groundwater level.\n",
    "  - **Evapotranspiration:** Conversion of surface waters to water vapor through a combination of direct evaporation from the soil/water surfaces and transpiration due to the vegetation metabolism. The typical unit is $\\mathrm{[mm \\; day^{-1}]}$ -- volumeric flux of water per area.\n",
    "  - **Condensation:** Conversion of water vapor to liquid water.\n",
    "  - **Sublimation:** Direct phase change from ice to water vapor. The direct phase change of water vapor to ice is called **deposition**. \n"
   ]
  },
  {
   "cell_type": "markdown",
   "metadata": {},
   "source": [
    "## 5.1 Hydrologic watersheds"
   ]
  },
  {
   "cell_type": "markdown",
   "metadata": {},
   "source": [
    "All of the above processes can be quantified over a hydrologic unit called **watershed**.\n",
    "\n",
    "- **watershed** is defined as a locus of all points on the earth's surface that drain precipitation water to a single point, called the **watershed outlet**. The boundary of a watershed is called the **divide**.\n",
    "\n",
    "Watersheds can be delineated either manually or automatically using **digital elevation models (DEM)** and computational algorithms. The size of a watershed can range from a few acres to millions of square miles (Mississippi River basin, 3.2 million square miles) -- depending on the geomorphologic characteristics of land surfaces and location of the outlet. Watersheds have a nested structure. \n",
    "\n",
    "<div style=\"text-align: center;\">\n",
    "  <img src=\"Figures/Ch1/Ch1F10.gif\" alt=\"Figure 10\" style=\"width: 500px; height: auto;\">\n",
    "</div>\n",
    "\n",
    "\n",
    "<div style=\"text-align: center;\">\n",
    "  <img src=\"Figures/Ch1/Ch1F11.png\" alt=\"Figure 11\" style=\"width: 500px; height: auto;\">\n",
    "</div>"
   ]
  },
  {
   "cell_type": "markdown",
   "metadata": {},
   "source": [
    "## 5-2 Driver of the global hydrologic water cycle\n",
    "\n",
    "**Solar radiative energy** from the Sun is the main driver of the global water cycle. Although the earth is a **closed thermodynamic system** (no mass exchange with its environment), it is not an **isolated system** as it exchanges energy with the outer space. This exchange is a consequence of the **annual average solar radiation flux** of 342 $\\mathrm{[Wm^{-2}]}$ , over the entire Earth surfaces, at the top of its atmosphere.\n",
    "\n",
    "Due to the ellipsoidal shape and orbital geometry of earth, the equators receive more energy than polar regions. This differential energy budget eventually leads to a **pressure gradient** in the air atmosphere from equators to poles that circulates the Earth's atmosphere. The moving air masses transport water vapor from tropical oceans and precipitate them over lands. The precipitation water returns back to the atmosphere and oceans through the explained fluxes and processes such as evapotranspiration, infiltration, percolation, runoff, and streamflow.\n",
    "\n",
    "\n",
    "<div style=\"text-align: center;\">\n",
    "  <img src=\"Figures/Ch1/Ch1F12.jpg\" alt=\"Figure 12\" style=\"width: 500px; height: auto;\">\n",
    "</div>"
   ]
  },
  {
   "cell_type": "markdown",
   "metadata": {},
   "source": [
    "## 5-3 Earth's atmospheric circulation\n",
    "\n",
    "As explained, the convective motion of air and water masses in the atmosphere is mainly because of an existing **pressure gradient**. Why does such a pressure gradient exist?\n",
    "\n",
    "As a general rule, when the temperature of an air parcel increases at a constant pressure, based on the ideal gas law, its density reduces and vice versa.\n",
    "\n",
    "Therefore, in general, a cold air mass is denser than a warm air mass at constant pressure. Because the air is compressible, the density of a cold air column decays faster than the density of a warm air column from the earth's surface to higher altitudes. Due to the higher pressure of the warm air column aloft than the cold air column, the air flows from warm to cold regions at high elevations.\n",
    "\n",
    "As the air flows from warm to cold areas, the cold air column becomes heavier, and its pressure increases at the surface. As a result, a surface air flow forms from cold to warm areas which eventually gives rise to a circulation pattern.\n",
    "\n",
    "<div style=\"text-align: center;\">\n",
    "  <img src=\"Figures/Ch1/Ch1F13.png\" alt=\"Figure 13\" style=\"width: 800px; height: auto;\">\n",
    "</div>\n",
    "\n",
    "<div style=\"text-align: center\">\n",
    "The circulation of the earth's atmosphere is due to the formation of a pressure gradient from warm (tropics) to cold (polar regions) air masses.\n",
    "</div>"
   ]
  },
  {
   "cell_type": "markdown",
   "metadata": {},
   "source": [
    "According to the above simple conceptualization of the atmospheric circulation, one may think of the Earth's atmospheric circulation as shown in the figure below. However, the one-cell circulation model does not exist because these large eddies are unstable and more importantly there are other forces acting on the traveling air parcels that break these large hypothetical circulation cells apart. One of the main forces is the called the Coriolis force.\n",
    "\n",
    "<div style=\"text-align: center;\">\n",
    "  <img src=\"Figures/Ch1/Ch1F14.jpg\" alt=\"Figure 14\" style=\"width: 500px; height: auto;\">\n",
    "</div>"
   ]
  },
  {
   "cell_type": "markdown",
   "metadata": {},
   "source": [
    "In simple terms, with respect to the a rotating reference frame, it appears that the Coriolis force is deflecting an object that moves from the center to the perimeter and vice versa.\n",
    "\n",
    "<div style=\"text-align: center;\">\n",
    "  <img src=\"Figures/Ch1/Ch1F15.png\" alt=\"Figure 15\" style=\"width: 700px; height: auto;\">\n",
    "</div>"
   ]
  },
  {
   "cell_type": "markdown",
   "metadata": {},
   "source": [
    "Coriolis force deflects an object thrown from point A to point B to the right of its path in a counter-clockwise rotational system. This force is due to a combined effect of the angular  $(\\vec{\\omega}=\\frac{\\vec{v}}{r})$ and linear velocity $\\vec{v}$.\n",
    "\n",
    "<div style=\"text-align: center;\">\n",
    "  <img src=\"Figures/Ch1/Ch1F16.png\" alt=\"Figure 16\" style=\"width: 400px; height: auto;\">\n",
    "</div>"
   ]
  },
  {
   "cell_type": "markdown",
   "metadata": {},
   "source": [
    "The Coriolis force deflects air parcels to the right and left of their moving direction in the Northern and Southern Hemisphere, respectively, as shown in the above figure.\n",
    "\n",
    "As a result of the coriolis and pressure gradient forces, those large hypothetical circulation cells break into three smaller cells as shown below. It is easy to conclude that the surface air flows from mid-latitude high-pressure divergence zones towards the tropical low-pressure convergence zones are deflected towards east. These surface air flows are called **Easterlies** or trade winds. On the other hand, surface air flows from high-pressure horse latitudes towards polar fronts are deflected to the west and create the **Westerlies**.\n",
    "\n",
    "\n",
    "<div style=\"text-align: center;\">\n",
    "  <img src=\"Figures/Ch1/Ch1F17a.jpg\" alt=\"Figure 17a\" style=\"width: 350px; height: auto;\">\n",
    "  <img src=\"Figures/Ch1/Ch1F17b.png\" alt=\"Figure 17b\" style=\"width: 350px; height: auto;\">\n",
    "</div>\n",
    "\n",
    "\n",
    "<div style=\"text-align: center;\">\n",
    "  <img src=\"Figures/Ch1/Ch1F18.png\" alt=\"Figure 18\" style=\"width: 700px; height: auto;\">\n",
    "</div>"
   ]
  },
  {
   "cell_type": "markdown",
   "metadata": {},
   "source": [
    "The Coriolis force has another important implication in the formation and direction of tropical and extra-tropical storms. In regions within 5-20 latitudes, the Coriolis force is strong enough to create **cyclonic activities** around the high and low-pressure areas. Based on the explained Coriolis effect, it is easy to understand that the air flows **counter clockwise** around **lows** and **clockwise** around **highs** in the Northern Hemisphere.\n",
    "\n",
    "<div style=\"text-align: center;\">\n",
    "  <img src=\"Figures/Ch1/Ch1F19.png\" alt=\"Figure 19\" style=\"width: 600px; height: auto;\">\n",
    "</div>\n",
    "\n",
    "<div style=\"text-align: center;\">\n",
    "  <img src=\"Figures/Ch1/Ch1F20.png\" alt=\"Figure 20\" style=\"width: 600px; height: auto;\">\n",
    "</div>\n",
    "\n",
    "\n",
    "<div style=\"text-align: center;\">\n",
    "  <img src=\"Figures/Ch1/Ch1F21a.gif\" alt=\"Figure 21a\" style=\"width: 300px;\">\n",
    "  <img src=\"Figures/Ch1/Ch1F21b.gif\" alt=\"Figure 21b\" style=\"width: 300px;\">\n",
    "</div>\n",
    "\n",
    "\n",
    "A schematic of airflow in a low pressure cell (left) with convergence at the surface and divergence aloft. Airflows in a high-pressure cell diverge at the surface and converge aloft. A satellite footage of Hurricane Irma shows its counterclockwise rotation around a strong low-pressure system."
   ]
  },
  {
   "cell_type": "markdown",
   "metadata": {},
   "source": [
    "<a id=\"5\"></a> <br>\n",
    "# 6- Water Budget Analysis Cycle"
   ]
  },
  {
   "cell_type": "markdown",
   "metadata": {},
   "source": [
    "Water budget analysis is extremely important for the sustainability of socioeconomic growth.\n",
    "\n",
    "Formerly, one of the four largest lakes in the world with an area of 68,000 sq-km (26,300 sq-mi), the Aral Sea has been steadily shrinking since the 1960s after the rivers that fed it were diverted by Soviet irrigation projects. By 1997, it had declined to 10% of its original size.\n",
    "\n",
    "The right hand side shows Iran’s Lake Urmia, which was one of the largest saltwater lakes in the world. With eight times as much salt as seawater, it was the globe’s largest habitat for brine shrimps, which attract flamingos, other birds as they migrate across Asia. But the lake is shirinking. Using images captured by USGS-NASA Landsat satellites, it is determined that its area has decreased by 88% since the 1970s. Many blamed severe drought, but climate data from satellites and other sources demonstrated that the lake is shrinking even in wet years. Therefore, research suggests that the reason is unsustainable agricultural developments. As water retreats, it leaves behind a salty crust that is swept into the air by dust storms. These particles can cause respiratory problems in humans and on nearby agricultural lands. The bottom panel shows that the Great Salt Lake in Utah, United States, is also shrinking.\n",
    "\n",
    "<div style=\"text-align: center;\">\n",
    "  <img src=\"Figures/Ch1/Ch1F22.jpg\" alt=\"Figure 22\" style=\"width: 700px;height: auto\">\n",
    "  <img src=\"Figures/Ch1/Ch1F23.gif\" alt=\"Figure 23\" style=\"width: 700px;height: auto\">\n",
    "  <img src=\"Figures/Ch1/Ch1F24.png\" alt=\"Figure 24\" style=\"width: 700px;height: auto\">\n",
    "</div>"
   ]
  },
  {
   "cell_type": "markdown",
   "metadata": {},
   "source": [
    "Water mass balance analysis in hydrologic systems assesses **storage of water** in natural or man-made reservoirs and evaluates the amount of water flows across those reservoirs. We often use a system approach to explain hydrologic mass balance analyses. Mass of water parcels is considered as a conserved quantity and a simple mass balance over a system of water storage can be cast as follows:\n",
    "\n",
    "\n",
    "<div style=\"text-align: center;\">\n",
    "  <img src=\"Figures/Ch1/Ch1F25.png\" alt=\"Figure 25\" style=\"width: 900px;height: auto\">\n",
    "</div>\n",
    "\n",
    "  $$ \\text{Accumulation}(\\Delta S)=\\text{Input}(I)-\\text{Output}(O) \\; [\\text{m}^3] $$\n",
    "\n",
    "<div style=\"color: black;\">\n",
    "  <p>Thus we have: </p>\n",
    "</div>\n",
    "  \n",
    "$$ \\frac{\\Delta S}{\\Delta t} = Q_{in} - Q_{out} \\; [\\text{m}^3\\text{s}^{-1}] $$\n",
    "\n",
    "\n",
    "<div style=\"color: black;\">\n",
    "  <p>In a steady state condition, the mass balance reduces to  becuase. </p>\n",
    "</div>\n",
    "\n",
    "In a **steady state** condition, the mass balance reduces to </span>$Q_{in}=Q_{out}$ because $\\frac{\\Delta S}{\\Delta t}=0$ ."
   ]
  },
  {
   "cell_type": "markdown",
   "metadata": {},
   "source": [
    "Note that we often express hydrologic flows per unit area (volumetric flux) $[\\mathrm{m^3m^{-2}s^{-1}}]=[\\mathrm{ms^{-1}}]$. The rive flow is often represnted in $[\\mathrm{m^3s^{-1}}]$ , precipitation in $[\\mathrm{mmhr^{-1}}]$ and evapotranspiration in $[\\mathrm{mmday^{-1}}]$. Therefore, in water budget analysis, it is important to pay attention to the units and thier proper conversions. \n",
    "\n",
    "Some relevant important units are:\n",
    "* **Length** $\\mathrm{1\\;[inch] = 2.54\\;[cm] , 12\\;[inches] = 1\\;[ft]}$\n",
    "* **Area** $\\mathrm{1\\;[acre] =640^{-1}\\;[miles^2]= 43,560\\;[ft^2] = 4,047\\;[m^2]\\; and \\; 1[ha]=10,000\\;[m^2] }$\n",
    "* **Volume** $\\mathrm{[ac.ft] = 43,560\\;[ft^3] = 1233.5\\;[m^3]}$\n",
    "* **Discharge** $\\mathrm{[m^3s^{-1}] \\; or \\; [csf] \\; where \\; 100\\;[csf]=2.83\\;[m^3s^{-1}]}$\n",
    "\n",
    "<div style=\"text-align: center;\">\n",
    "  <img src=\"Figures/Ch1/Ch1F26.png\" alt=\"Figure 26\" style=\"width: 700px;height: auto\">\n",
    "</div>\n",
    "\n",
    "$$ P\\,A +Q_{in} + G_{in} -E\\,A -Q_{out} -G_{out} = \\frac{\\Delta S}{\\Delta t} \\;\\; \\mathrm{[m^3s^{-1}]} $$\n",
    "\n",
    "$$ P+\\frac{Q_{in}}{A}+\\frac{G_{in}}{A}-E -\\frac{Q_{out}}{A}-\\frac{G_{out}}{A}= \\frac{\\Delta S}{A \\Delta t} \\;\\; \\mathrm{[ms^{-1}]} \\rightarrow \\mathrm{[mmhr^{-1}]} \\rightarrow \\mathrm{[mm.day^{-1}]} \\rightarrow \\mathrm{[mm.year^{-1}]}$$"
   ]
  },
  {
   "cell_type": "markdown",
   "metadata": {},
   "source": [
    "**On a global scale** as earth is a close thermodynamic system, water mass balance at the earth's surface is $\\frac{\\Delta S}{\\Delta t}=P-ET$ . In a steady state condition, this mass balance leads to $P=ET$ on a global scale. \n",
    "\n",
    "Making a steady state assumption depends on the time scale. The global steady-state assumption is valid for sufficiently long period, because evapotranspiration and precipitation are highly dynamic processes that vary significantly in a shorter period of time. Is this assumption valid in seasonal and annual time scales? Observational evidence suggests that the annual rate of both precipitation and ET is approximately 1000 $\\mathrm{[mm year^{-1}]}$. \n",
    "\n",
    "<div style=\"text-align: center;\">\n",
    "  <img src=\"Figures/Ch1/Ch1F27.jpg\" alt=\"Figure 27\" style=\"width: 200px;height: auto\">\n",
    "</div>\n",
    "\n",
    "\n",
    "At a **watershed scale**, each basin may exchange water mass with its surrounding basins through the underlying groundwater systems. A watershed mass balance can be written as follows:\n",
    "\n",
    "$$\\frac{dS}{Adt}=P+\\frac{G_{in}}{A}-\\left(ET+\\frac{Q}{A}+\\frac{G_{out}}{A}\\right) \\mathrm{[ms^{-1}]}$$\n",
    "\n",
    "After averaging over a sufficiently long period, for a steady state condition, we have \n",
    "\n",
    "$$P+\\frac{G_{in}}{A}=ET+\\frac{Q}{A}+\\frac{G_{out}}{A}.$$\n",
    "\n",
    "Over a short period of time (e.g., less than a year), long resident time of groundwater implies $G_{in} \\approx G_{out} \\rightarrow 0$  :\n",
    "\n",
    "$$P\\approx \\frac{Q}{A}+ET \\Rightarrow ET\\approx P-\\frac{Q}{A}.$$\n",
    "\n",
    "Important note: When a storm is occurring, the air humidity is relatively high, which reduces the ET significantly. Assuming  ($ET \\approx 0$), the watershed mass balance can be reduced to $P \\approx \\frac{Q}{A}$\n",
    "\n",
    "\n",
    "-----------\n",
    "\n"
   ]
  },
  {
   "cell_type": "code",
   "execution_count": 6,
   "metadata": {},
   "outputs": [],
   "source": [
    "#Download Moduels \n",
    "import numpy as np\n",
    "import pandas as pd\n",
    "import matplotlib.pyplot as plt"
   ]
  },
  {
   "cell_type": "markdown",
   "metadata": {},
   "source": [
    "Example Problem 1.1: Determine the volume of water lost in cubic meters due to evaporation during a year from the surface of a 1500-ha terminal lake located in a region where the annual rainfall is 50 cm. The increase in the depth of the lake over the year is 15 cm. The lake is in equilibrium with the underlying aquifer and has no inflow or outflow. "
   ]
  },
  {
   "cell_type": "markdown",
   "metadata": {},
   "source": [
    "Solution: The mass balance equation is simple: $P-ET=\\frac{\\Delta S}{A\\Delta t}$\n",
    "\n",
    "$P = 50 \\;[\\mathrm{cmyr^{-1}}]$\n",
    "\n",
    "$\\frac{\\Delta S}{A\\Delta t} = 15 \\;[\\mathrm{cmyr^{-1}}]$\n",
    "\n",
    "$A = 1500 \\;[\\mathrm{ha}]$\n",
    "\n",
    "$ET= (P-\\frac{\\Delta S}{A\\Delta t}) \\times 10^{-2}(\\mathrm{\\frac {m}{cm}}) \\times A \\times 10^4\\left( \\mathrm{\\frac {m^2}{ha}} \\right)=5,250,000 \\left[\\mathrm{\\frac{m^3}{year}} \\right] $\n",
    "\n",
    "$\\frac{ET}{A}=\\frac{ET}{A*10^4 \\left( \\mathrm{\\frac {m^2}{ha}} \\right)} \\times \\frac{1}{365} \\left( \\mathrm{\\frac {year}{day}} \\right) \\times 1000 \\left(\\mathrm{\\frac{mm}{dm}}\\right)=0.9589 \\left[\\mathrm{\\frac{mm}{day}} \\right] $ "
   ]
  },
  {
   "cell_type": "code",
   "execution_count": 7,
   "metadata": {},
   "outputs": [
    {
     "name": "stdout",
     "output_type": "stream",
     "text": [
      "ET_volume= 5250000.000\n",
      "ET_flux= 0.959\n"
     ]
    }
   ],
   "source": [
    "P = 50;         # [cm/y]\n",
    "Delta_S = 15;   # [cm/y]\n",
    "A = 1500;       # [ha] \n",
    "# Computing the annual evaporation\n",
    "ET_volume = (P - Delta_S)*10**(-2)*A*10**4    # [m3/year]\n",
    "print(f'ET_volume= {ET_volume:0.3f}')\n",
    "\n",
    "ET_flux = ET_volume/(365*A*10**4)*1000       # [mm/day]\n",
    "print(f'ET_flux= {ET_flux:0.3f}')"
   ]
  },
  {
   "cell_type": "markdown",
   "metadata": {},
   "source": [
    "-----\n",
    "Example Problem 1.2: A city is supplied by water from a 1250-ha catchment area. The average water consumption of the community is 12,000. The annual pre­cipitation in the region is 80 cm. A river with an average annual flow of 0.05  originates in the catchment and flows out of it. If the net annual groundwater outflow from the area is equivalent to a 5 cm depth of water per year, what is the evapotranspiration loss in cubic meters per year -- which, if exceeded, would cause a shortage of the water supply to the community? Assume the basin is in steady state condition in an annual scale."
   ]
  },
  {
   "cell_type": "markdown",
   "metadata": {},
   "source": [
    "Solution: The mass balance equation is simple: $ET=P-\\frac{Q_{out}}{A}-\\frac{Q_{consumption}}{A}+G_{in}-G_{out}$"
   ]
  },
  {
   "cell_type": "code",
   "execution_count": 8,
   "metadata": {},
   "outputs": [
    {
     "name": "stdout",
     "output_type": "stream",
     "text": [
      "ET= 27.346\n"
     ]
    }
   ],
   "source": [
    "P = 80;       # [cm/year]\n",
    "Q_out = 0.05; # [m3/s]\n",
    "A = 1250;     # [ha]\n",
    "Q_consumption = 12000; # [m3/day]\n",
    "G_out = 5;    # [cm/year]\n",
    "# Computing the annual evaporation \n",
    "ET = P/100 - Q_out*24*3600*365/(A*10**4) - Q_consumption*365/(A*10**4) - G_out/100; # [m/year]\n",
    "ET = ET*100   # [cm/year]\n",
    "print(f'ET= {ET:0.3f}')"
   ]
  },
  {
   "cell_type": "markdown",
   "metadata": {},
   "source": [
    "-----\n",
    "\n",
    "Example Problem 1.3: A golf course has requested a permit to install a 40,000 Square ft pond to enhance the beauty of its facility. Due to evaporation, the required water needs to be supplemented by groundwater pumping.  There is a small creek that discharges 0.0005 m3/s into the pond. The outlet from the pond releases 0.003 m3/s of water to make sure there is a circulation in the pond. Precipitation rate is 260 mm/yr and the annual evaporation rate is 5 mm/day. The bottom of the pond is completely sealed from any seepage. The question is – how much groundwater pumping is needed to keep the pond in steady state condition? "
   ]
  },
  {
   "cell_type": "markdown",
   "metadata": {},
   "source": [
    "Solution: The mass balance equation under steady state condition is as follows:\n",
    "\n",
    "$G_{in} = (E-P)\\times A + Q_{out}-Q_{in}$\n",
    "\n",
    "$A = 40,000 \\; (\\mathrm{ft^2}) \\left( \\mathrm{\\frac{0.3048 m}{1 ft}} \\right) $\n",
    "\n",
    "$\\frac{(E-P)}{A}= \\frac{5 \\left( \\mathrm{\\frac{mm}{day}} \\right) \\times 365 \\; \\mathrm{day}}{1000 \\left(\\mathrm{\\frac{mm}{m}}\\right) \\times A} -260 \\left(\\mathrm{\\frac{mm}{yr}}\\right) \\times \\left(\\mathrm{\\frac{1 \\; m}{1000 \\; mm}}\\right) \\times \\frac{1}{A} = 4.2 \\times 10^{-4} $\n",
    "\n",
    "$G_{in}=4.2 \\times 10^{-4}+0.0005-0.003 = 0.0024 \\left[\\mathrm{\\frac{m^3}{s}} \\right]$ "
   ]
  },
  {
   "cell_type": "code",
   "execution_count": 9,
   "metadata": {},
   "outputs": [
    {
     "name": "stdout",
     "output_type": "stream",
     "text": [
      "G_in= 0.0029\n"
     ]
    }
   ],
   "source": [
    "P = 260; #[mm/yr]\n",
    "E = 5;   #[mm/day]\n",
    "Q_in = 0.0005; #[m3/s]\n",
    "Q_out = 0.003 #[m3/s]\n",
    "A = 40000*0.3048**2; # [m2]\n",
    "G_in = (E*365/1000-P/1000)/A + Q_out - Q_in; #[m3/s]\n",
    "print(f'G_in= {G_in:0.4f}')"
   ]
  },
  {
   "cell_type": "markdown",
   "metadata": {},
   "source": [
    "-----\n",
    "\n",
    "Example Problem 1.4: The following information is available for a lake including the water level above the sea level (feet), total annual precipitation (inches), total annual streamflow input (acre-feet) and annual lake evaporation (inches). "
   ]
  },
  {
   "cell_type": "code",
   "execution_count": 10,
   "metadata": {},
   "outputs": [
    {
     "data": {
      "text/html": [
       "<div>\n",
       "<style scoped>\n",
       "    .dataframe tbody tr th:only-of-type {\n",
       "        vertical-align: middle;\n",
       "    }\n",
       "\n",
       "    .dataframe tbody tr th {\n",
       "        vertical-align: top;\n",
       "    }\n",
       "\n",
       "    .dataframe thead th {\n",
       "        text-align: right;\n",
       "    }\n",
       "</style>\n",
       "<table border=\"1\" class=\"dataframe\">\n",
       "  <thead>\n",
       "    <tr style=\"text-align: right;\">\n",
       "      <th></th>\n",
       "      <th>Year</th>\n",
       "      <th>H</th>\n",
       "      <th>P</th>\n",
       "      <th>Qin</th>\n",
       "      <th>E</th>\n",
       "    </tr>\n",
       "  </thead>\n",
       "  <tbody>\n",
       "    <tr>\n",
       "      <th>0</th>\n",
       "      <td>1</td>\n",
       "      <td>4198.6</td>\n",
       "      <td>NaN</td>\n",
       "      <td>NaN</td>\n",
       "      <td>NaN</td>\n",
       "    </tr>\n",
       "    <tr>\n",
       "      <th>1</th>\n",
       "      <td>2</td>\n",
       "      <td>4197.7</td>\n",
       "      <td>9.46</td>\n",
       "      <td>1448900.0</td>\n",
       "      <td>43.3</td>\n",
       "    </tr>\n",
       "    <tr>\n",
       "      <th>2</th>\n",
       "      <td>3</td>\n",
       "      <td>4199.4</td>\n",
       "      <td>16.78</td>\n",
       "      <td>2443000.0</td>\n",
       "      <td>41.4</td>\n",
       "    </tr>\n",
       "    <tr>\n",
       "      <th>3</th>\n",
       "      <td>4</td>\n",
       "      <td>4203.4</td>\n",
       "      <td>17.43</td>\n",
       "      <td>5113390.0</td>\n",
       "      <td>40.9</td>\n",
       "    </tr>\n",
       "    <tr>\n",
       "      <th>4</th>\n",
       "      <td>5</td>\n",
       "      <td>4207.7</td>\n",
       "      <td>28.00</td>\n",
       "      <td>6359170.0</td>\n",
       "      <td>39.7</td>\n",
       "    </tr>\n",
       "  </tbody>\n",
       "</table>\n",
       "</div>"
      ],
      "text/plain": [
       "  Year       H      P        Qin     E\n",
       "0    1  4198.6    NaN        NaN   NaN\n",
       "1    2  4197.7   9.46  1448900.0  43.3\n",
       "2    3  4199.4  16.78  2443000.0  41.4\n",
       "3    4  4203.4  17.43  5113390.0  40.9\n",
       "4    5  4207.7  28.00  6359170.0  39.7"
      ]
     },
     "execution_count": 10,
     "metadata": {},
     "output_type": "execute_result"
    }
   ],
   "source": [
    "#Input data \n",
    "Years =[\"1\",\"2\",\"3\",\"4\",\"5\"];\n",
    "H= [4198.6,4197.7,4199.4,4203.4,4207.7];     # water level [ft]\n",
    "P = [np.nan,9.46,16.78,17.43,28];               # Precip [inches]\n",
    "Qin = [np.nan,1448900,2443000,5113390,6359170]; # [acre-feet]\n",
    "E = [np.nan, 43.3,41.4,40.9,39.7];              # [inches]\n",
    "\n",
    "df = pd.DataFrame({\"Year\": Years,\"H\": H,\"P\": P,\"Qin\": Qin,\"E\": E})\n",
    "df"
   ]
  },
  {
   "cell_type": "markdown",
   "metadata": {},
   "source": [
    "The following elevation-area-volume table for the lake is available. Is the lake shrinking or expanding during this five year period? Quntify your answer in terms of centemeter of water gain or loss. Note that the lake is terminal and has no outflow. Use avarega of the area at the begining and end of each calendar year for related computations.  "
   ]
  },
  {
   "cell_type": "code",
   "execution_count": 11,
   "metadata": {},
   "outputs": [
    {
     "data": {
      "text/html": [
       "<div>\n",
       "<style scoped>\n",
       "    .dataframe tbody tr th:only-of-type {\n",
       "        vertical-align: middle;\n",
       "    }\n",
       "\n",
       "    .dataframe tbody tr th {\n",
       "        vertical-align: top;\n",
       "    }\n",
       "\n",
       "    .dataframe thead th {\n",
       "        text-align: right;\n",
       "    }\n",
       "</style>\n",
       "<table border=\"1\" class=\"dataframe\">\n",
       "  <thead>\n",
       "    <tr style=\"text-align: right;\">\n",
       "      <th></th>\n",
       "      <th>Lake_elev</th>\n",
       "      <th>Lake_area</th>\n",
       "      <th>Lake_volume</th>\n",
       "    </tr>\n",
       "  </thead>\n",
       "  <tbody>\n",
       "    <tr>\n",
       "      <th>0</th>\n",
       "      <td>4197</td>\n",
       "      <td>839809</td>\n",
       "      <td>12556430</td>\n",
       "    </tr>\n",
       "    <tr>\n",
       "      <th>1</th>\n",
       "      <td>4198</td>\n",
       "      <td>890047</td>\n",
       "      <td>13421890</td>\n",
       "    </tr>\n",
       "    <tr>\n",
       "      <th>2</th>\n",
       "      <td>4199</td>\n",
       "      <td>969949</td>\n",
       "      <td>14350140</td>\n",
       "    </tr>\n",
       "    <tr>\n",
       "      <th>3</th>\n",
       "      <td>4200</td>\n",
       "      <td>1079259</td>\n",
       "      <td>15370180</td>\n",
       "    </tr>\n",
       "    <tr>\n",
       "      <th>4</th>\n",
       "      <td>4201</td>\n",
       "      <td>1140000</td>\n",
       "      <td>16481450</td>\n",
       "    </tr>\n",
       "    <tr>\n",
       "      <th>5</th>\n",
       "      <td>4202</td>\n",
       "      <td>1175000</td>\n",
       "      <td>17640700</td>\n",
       "    </tr>\n",
       "    <tr>\n",
       "      <th>6</th>\n",
       "      <td>4203</td>\n",
       "      <td>1201000</td>\n",
       "      <td>18828700</td>\n",
       "    </tr>\n",
       "    <tr>\n",
       "      <th>7</th>\n",
       "      <td>4204</td>\n",
       "      <td>1223000</td>\n",
       "      <td>20040700</td>\n",
       "    </tr>\n",
       "    <tr>\n",
       "      <th>8</th>\n",
       "      <td>4205</td>\n",
       "      <td>1250468</td>\n",
       "      <td>21275600</td>\n",
       "    </tr>\n",
       "    <tr>\n",
       "      <th>9</th>\n",
       "      <td>4206</td>\n",
       "      <td>1330000</td>\n",
       "      <td>22541900</td>\n",
       "    </tr>\n",
       "    <tr>\n",
       "      <th>10</th>\n",
       "      <td>4207</td>\n",
       "      <td>1375000</td>\n",
       "      <td>23808300</td>\n",
       "    </tr>\n",
       "    <tr>\n",
       "      <th>11</th>\n",
       "      <td>4208</td>\n",
       "      <td>1410000</td>\n",
       "      <td>25074700</td>\n",
       "    </tr>\n",
       "    <tr>\n",
       "      <th>12</th>\n",
       "      <td>4209</td>\n",
       "      <td>1450000</td>\n",
       "      <td>26341000</td>\n",
       "    </tr>\n",
       "    <tr>\n",
       "      <th>13</th>\n",
       "      <td>4210</td>\n",
       "      <td>1490000</td>\n",
       "      <td>27607300</td>\n",
       "    </tr>\n",
       "    <tr>\n",
       "      <th>14</th>\n",
       "      <td>4212</td>\n",
       "      <td>1572000</td>\n",
       "      <td>30669000</td>\n",
       "    </tr>\n",
       "    <tr>\n",
       "      <th>15</th>\n",
       "      <td>4216</td>\n",
       "      <td>2228000</td>\n",
       "      <td>38671000</td>\n",
       "    </tr>\n",
       "    <tr>\n",
       "      <th>16</th>\n",
       "      <td>4218</td>\n",
       "      <td>2519000</td>\n",
       "      <td>43417000</td>\n",
       "    </tr>\n",
       "  </tbody>\n",
       "</table>\n",
       "</div>"
      ],
      "text/plain": [
       "    Lake_elev  Lake_area  Lake_volume\n",
       "0        4197     839809     12556430\n",
       "1        4198     890047     13421890\n",
       "2        4199     969949     14350140\n",
       "3        4200    1079259     15370180\n",
       "4        4201    1140000     16481450\n",
       "5        4202    1175000     17640700\n",
       "6        4203    1201000     18828700\n",
       "7        4204    1223000     20040700\n",
       "8        4205    1250468     21275600\n",
       "9        4206    1330000     22541900\n",
       "10       4207    1375000     23808300\n",
       "11       4208    1410000     25074700\n",
       "12       4209    1450000     26341000\n",
       "13       4210    1490000     27607300\n",
       "14       4212    1572000     30669000\n",
       "15       4216    2228000     38671000\n",
       "16       4218    2519000     43417000"
      ]
     },
     "execution_count": 11,
     "metadata": {},
     "output_type": "execute_result"
    }
   ],
   "source": [
    "# The lake Elevation-Area-Volume data\n",
    "Lake_elev = list(range(4197,4211))+[4212,4216,4218]; # [ft]\n",
    "Lake_area = [839809,890047,969949,1079259,1140000,1175000,1201000,1223000,1250468,1330000,1375000,1410000,1450000,1490000,1572000,2228000,2519000]; #[ac]\n",
    "Lake_volume = [12556430,13421890,14350140,15370180,16481450,17640700,18828700,20040700,21275600,22541900,23808300,25074700,26341000,27607300,30669000,38671000,43417000]; #[ac-ft]\n",
    "len(Lake_elev)\n",
    "\n",
    "df1 = pd.DataFrame({\"Lake_elev\": Lake_elev,\"Lake_area\": Lake_area,\"Lake_volume\": Lake_volume})\n",
    "df1"
   ]
  },
  {
   "cell_type": "code",
   "execution_count": 14,
   "metadata": {},
   "outputs": [
    {
     "data": {
      "image/png": "[encoded data removed]",
      "text/plain": [
       "<Figure size 864x432 with 2 Axes>"
      ]
     },
     "metadata": {
      "needs_background": "light"
     },
     "output_type": "display_data"
    }
   ],
   "source": [
    "plt.rcParams[\"font.family\"] = \"Times New Roman\"\n",
    "plt.rcParams['font.size'] = 20\n",
    "\n",
    "# Plot all components\n",
    "plt.figure(figsize=(12, 6))\n",
    "\n",
    "# Observed\n",
    "plt.subplot(1, 2, 1)\n",
    "plt.plot(Lake_volume, Lake_elev, '-o')\n",
    "plt.xlabel('Volume [acre-ft]')\n",
    "plt.ylabel('Elevation [feet]')\n",
    "plt.grid(True)\n",
    "\n",
    "# Trend\n",
    "plt.subplot(1, 2, 2)\n",
    "plt.plot(Lake_volume, Lake_area, '-o')\n",
    "plt.xlabel('Lake_area [acre]')\n",
    "plt.ylabel('Elevation [feet]')\n",
    "plt.grid(True)\n",
    "\n",
    "plt.tight_layout()\n",
    "plt.show()"
   ]
  },
  {
   "cell_type": "markdown",
   "metadata": {},
   "source": [
    "Solution: The mass balance equation is simple: $\\Delta S=Q+A(P-E+U)$, where $U$ denotes the unaccounted inflows ($U>0$) or outflows ($U<0$)."
   ]
  },
  {
   "cell_type": "code",
   "execution_count": 15,
   "metadata": {},
   "outputs": [
    {
     "data": {
      "text/html": [
       "<div>\n",
       "<style scoped>\n",
       "    .dataframe tbody tr th:only-of-type {\n",
       "        vertical-align: middle;\n",
       "    }\n",
       "\n",
       "    .dataframe tbody tr th {\n",
       "        vertical-align: top;\n",
       "    }\n",
       "\n",
       "    .dataframe thead th {\n",
       "        text-align: right;\n",
       "    }\n",
       "</style>\n",
       "<table border=\"1\" class=\"dataframe\">\n",
       "  <thead>\n",
       "    <tr style=\"text-align: right;\">\n",
       "      <th></th>\n",
       "      <th>Year</th>\n",
       "      <th>DS</th>\n",
       "      <th>net_loss</th>\n",
       "      <th>Qin</th>\n",
       "      <th>U</th>\n",
       "    </tr>\n",
       "  </thead>\n",
       "  <tbody>\n",
       "    <tr>\n",
       "      <th>0</th>\n",
       "      <td>1</td>\n",
       "      <td>NaN</td>\n",
       "      <td>NaN</td>\n",
       "      <td>NaN</td>\n",
       "      <td>NaN</td>\n",
       "    </tr>\n",
       "    <tr>\n",
       "      <th>1</th>\n",
       "      <td>2</td>\n",
       "      <td>-816588.0</td>\n",
       "      <td>2.556279e+06</td>\n",
       "      <td>1448900.0</td>\n",
       "      <td>2.907910e+05</td>\n",
       "    </tr>\n",
       "    <tr>\n",
       "      <th>2</th>\n",
       "      <td>3</td>\n",
       "      <td>1595904.0</td>\n",
       "      <td>1.937439e+06</td>\n",
       "      <td>2443000.0</td>\n",
       "      <td>1.090343e+06</td>\n",
       "    </tr>\n",
       "    <tr>\n",
       "      <th>3</th>\n",
       "      <td>4</td>\n",
       "      <td>4555344.0</td>\n",
       "      <td>2.174371e+06</td>\n",
       "      <td>5113390.0</td>\n",
       "      <td>1.616325e+06</td>\n",
       "    </tr>\n",
       "    <tr>\n",
       "      <th>4</th>\n",
       "      <td>5</td>\n",
       "      <td>5381280.0</td>\n",
       "      <td>1.272034e+06</td>\n",
       "      <td>6359170.0</td>\n",
       "      <td>2.941438e+05</td>\n",
       "    </tr>\n",
       "  </tbody>\n",
       "</table>\n",
       "</div>"
      ],
      "text/plain": [
       "  Year         DS      net_loss        Qin             U\n",
       "0    1        NaN           NaN        NaN           NaN\n",
       "1    2  -816588.0  2.556279e+06  1448900.0  2.907910e+05\n",
       "2    3  1595904.0  1.937439e+06  2443000.0  1.090343e+06\n",
       "3    4  4555344.0  2.174371e+06  5113390.0  1.616325e+06\n",
       "4    5  5381280.0  1.272034e+06  6359170.0  2.941438e+05"
      ]
     },
     "execution_count": 15,
     "metadata": {},
     "output_type": "execute_result"
    }
   ],
   "source": [
    "from scipy import interpolate\n",
    "\n",
    "lake_area = interpolate.interp1d(Lake_elev, Lake_area, kind='linear');\n",
    "lake_vol = interpolate.interp1d(Lake_elev, Lake_volume, kind='linear');\n",
    "\n",
    "# Initialize the varaibles \n",
    "A_ave = np.ravel(np.full((5, 1), np.nan));\n",
    "DS = np.ravel(np.full((5, 1), np.nan));\n",
    "net_loss = np.ravel(np.full((5, 1), np.nan));\n",
    "U = np.ravel(np.full((5, 1), np.nan));\n",
    "\n",
    "# Computing unaccounted water budget for 2nd year\n",
    "A_ave[1] = np.average([lake_area(H[0]),lake_area(H[1])]);  # average lake area\n",
    "DS[1] = lake_vol(H[1]) - lake_vol(H[0]);             # change of storage [acre-ft] : Volume at year end - Volume at year begining\n",
    "net_loss[1] = A_ave[1]*(E[1]-P[1])/12;               # A(E-P) -- Note the conversion of the unit from inches to feet\n",
    "U[1] = DS[1]+ net_loss[1]-Qin[1];                    # U = DS+A(E-P)-Q   [acre-ft]\n",
    "\n",
    "# 3rd year\n",
    "A_ave[2] = np.average([lake_area(H[1]),lake_area(H[2])]);  # average lake area\n",
    "DS[2] = lake_vol(H[2]) - lake_vol(H[1]);             # change of storage [acre-ft] : Volume at year end - Volume at year begining\n",
    "net_loss[2] = A_ave[2]*(E[2]-P[2])/12;               # A(E-P) -- Note the conversion of the unit from inches to feet\n",
    "U[2] = DS[2]+ net_loss[2]-Qin[2];                    # U = DS+A(E-P)-Q   [acre-ft]\n",
    "\n",
    "# 4th year\n",
    "A_ave[3] = np.average([lake_area(H[2]),lake_area(H[3])]);  # average lake area\n",
    "DS[3] = lake_vol(H[3]) - lake_vol(H[2]);             # change of storage [acre-ft] : Volume at year end - Volume at year begining\n",
    "net_loss[3] = A_ave[3]*(E[3]-P[3])/12;               # A(E-P) -- Note the conversion of the unit from inches to feet\n",
    "U[3] = DS[3]+ net_loss[3]-Qin[3];                    # U = DS+A(E-P)-Q   [acre-ft]\n",
    "\n",
    "# 5th year\n",
    "A_ave[4] = np.average([lake_area(H[3]),lake_area(H[4])]);  # average lake area\n",
    "DS[4] = lake_vol(H[4]) - lake_vol(H[3]);             # change of storage [acre-ft] : Volume at year end - Volume at year begining\n",
    "net_loss[4] = A_ave[4]*(E[4]-P[4])/12;               # A(E-P) -- Note the conversion of the unit from inches to feet\n",
    "U[4] = DS[4]+ net_loss[4]-Qin[4];                    # U = DS+A(E-P)-Q   [acre-ft]\n",
    "\n",
    "df2 = pd.DataFrame({\"Year\": Years,\"DS\": DS,\"net_loss\": net_loss,\"Qin\": Qin,\"U\": U})\n",
    "df2"
   ]
  },
  {
   "cell_type": "code",
   "execution_count": 16,
   "metadata": {},
   "outputs": [
    {
     "name": "stdout",
     "output_type": "stream",
     "text": [
      "U:[             nan  290790.95799953 1090342.68883307 1616325.30458322\n",
      "  294143.7500002 ]\n"
     ]
    }
   ],
   "source": [
    "for i in range(1,5):\n",
    "    A_ave[i] = np.average([lake_area(H[i-1]), lake_area(H[i])]) # average lake area\n",
    "   \n",
    "    DS[i] = lake_vol(H[i]) - lake_vol(H[i-1])                   # change of storage [acre-ft] : Volume at year end - Volume at year begining\n",
    "    \n",
    "    net_loss[i] = A_ave[i] * (E[i] - P[i]) / 12                 # A(E-P) -- Note the conversion of the unit from inches to feet\n",
    "    \n",
    "    U[i] = DS[i] + net_loss[i] - Qin[i]                         # U = DS+A(E-P)-Q   [acre-ft]\n",
    "\n",
    "print(f\"U:{U}\")"
   ]
  },
  {
   "cell_type": "markdown",
   "metadata": {},
   "source": [
    "It appears that over the last five years, the lake has had unaccounted inflows in all years. "
   ]
  }
 ],
 "metadata": {
  "kernelspec": {
   "display_name": "base",
   "language": "python",
   "name": "base"
  },
  "language_info": {
   "codemirror_mode": {
    "name": "ipython",
    "version": 3
   },
   "file_extension": ".py",
   "mimetype": "text/x-python",
   "name": "python",
   "nbconvert_exporter": "python",
   "pygments_lexer": "ipython3",
   "version": "3.8.8"
  }
 },
 "nbformat": 4,
 "nbformat_minor": 2
}
