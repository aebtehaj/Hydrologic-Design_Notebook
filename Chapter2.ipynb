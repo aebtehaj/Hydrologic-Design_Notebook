{
 "cells": [
  {
   "cell_type": "markdown",
   "metadata": {},
   "source": [
    "<div style=\"text-align: center; color: #1877F2\">\n",
    "  <h1>Hydrologic Design 4501</h1>\n",
    "</div>\n",
    "\n",
    "<div style=\"text-align: center; font-weight: bold;\">\n",
    "  Chapter 2: Atmospheric Water and Precipitation\n",
    "</div>\n",
    "\n",
    "<div style=\"text-align: center; margin-bottom: 0.5em;\">\n",
    "  Mohammadali Olyaei and Ardehsir Ebtehaj\n",
    "</div>\n",
    "\n",
    "<div style=\"text-align: center; font-weight: bold;\">\n",
    "  University of Minnesota\n",
    "</div>\n",
    "\n",
    "<div style=\"text-align: center;\">\n",
    "  <img src=\"Figures/Ch2/Ch2.gif\" alt=\"Hydrologic Water Cycle and Mass Balance GIF\">\n",
    "</div>"
   ]
  },
  {
   "cell_type": "markdown",
   "metadata": {},
   "source": [
    "The hydrologic water and energy cycle is the result of mechanical works done by a system similar to a steam engine at the size of the planet Earth. The main source of heat is the energy received by the Sun. The differential heating of earth is the main source of atmospheric **pressure gradient** from equators towards polar regions as mentioned in Chapter 1. \n",
    "\n",
    "\n",
    "Across the land and atmopshere, water is transported by two main hydrologic fluxes:\n",
    "\n",
    "1- **Precipitation:** A flux of water that reaches the Earth's surface, as a result of the conversion of atmospheric water vapor to liquid  or solid water.\n",
    "\n",
    "2- **Evapotranspiration:** Conversion of surface liquid water to water vapor through combination of direct evaporation from the soil/water surfaces and transpiration due to the vegetation metabolism.\n",
    "\n",
    "In order to understand these fluxes, we must first understand how the vertical profile of key atmospheric state variables change in space and time."
   ]
  },
  {
   "cell_type": "markdown",
   "metadata": {},
   "source": [
    "## 1- Preperties of the Earth' Atmosphere\n",
    "\n",
    "### 1-2 Atmopsheric Composition\n",
    "  Nitrogen and Oxygen constitute approximately 98% of the mass and volume of the homosphere (i.e., first 100 km of the earth's atmosphere). Concentration of most of the atmospheric gases is constant except water that, on average, constitutes 0-4% of the volume of atmosphere. \n",
    "\n",
    "<div style=\"text-align: center;\">\n",
    "  <img src=\"Figures/Ch2/Ch2F1.png\" alt=\"Figure 1\" style=\"width: auto; height: 120px;\">\n",
    "</div>"
   ]
  },
  {
   "cell_type": "markdown",
   "metadata": {},
   "source": [
    "Atmospheric moisture profiles varies significanly at different latitudes from the **tropics (23 S-N) to middle latitudes (23-66 S-N) and polar regions (66 S-N).**\n",
    "\n",
    "<div style=\"text-align: center;\">\n",
    "  <img src=\"Figures/Ch2/Ch2F2.png\" alt=\"Figure 2\" style=\"width: auto; height: 350px;\">\n",
    "</div>"
   ]
  },
  {
   "cell_type": "markdown",
   "metadata": {},
   "source": [
    "### 1-2 Atmospheric Moisture\n",
    "\n",
    "Clouds contain suspended water vapor, liquid water and ice particles. **Hydrometeors** are those particles that become large enough to fall to the earth surface. \n",
    "\n",
    "<div style=\"text-align: center;\">\n",
    "  <img src=\"Figures/Ch2/Ch2F3.png\" alt=\"Figure 3\" style=\"width: auto; height: 350px;\">\n",
    "</div>\n",
    "\n",
    "<div style=\"display: flex; justify-content: center; margin-top: 1em;\">\n",
    "  Classification of clouds by altitude of occurrence. The nimbostratus, cumulonimbus, and some of the larger cumulus species are multi-level clouds.\n",
    "</div>\n",
    "\n",
    "**Warmer atmosphere can hold more water**; therefore, atmospheric moisture is higher near the surface and equator compared to higher elevations and polar regions.\n",
    "\n",
    "Water vapor is the most variable constituent in the Earth's atmosphere and plays a critical role in transfer of energy from equators to polar regions. Why? To answer this quesion we first define the concept of a standard atmosphere. \n",
    "\n",
    "\n",
    "**Standard atmosphere** provides a common reference for how atmosphere parameters -- including temperature, pressure and density vary with altitude.\n",
    "\n",
    "The amount of water vapor contained in the atmosphere is a function of several weather parameters, but it is especially dependent on the atmospheric temperature. At sea level, the water-vapor density $\\rho_v$  can vary from $10^{-2} \\mathrm{[g\\;m^{-3}]}$ in very cold or dry climates to as much as $30 \\mathrm{[g\\;m^{-3}]}$ in hot and humid climates. The average surface value used by the U.S. Standard Atmosphere model is $\\rho_0=7.72 \\mathrm{[g\\;m^{-3}]}$ for middle latitudes. The altitude profile of $\\rho_v(z)$ is usually described by a decreasing exponential as follows:\n",
    "\n",
    "$$ \\rho_v(z)=\\rho_0 e^{\\frac{z}{H_v}}  $$\n",
    "\n",
    "where $2 \\leq H_v \\leq 2.5 \\; \\mathrm{[km]} $ The **total mass of water vapor** contained in a vertical column of a unit area is\n",
    "\n",
    "$$ \\int_0^\\infty \\rho_v(z)dz=\\rho_0H_v  $$\n",
    "\n",
    "\n",
    "For $\\rho_0=7.72\\mathrm{[g\\;m^{-3}]}$, and $H_v=2\\mathrm{[km]}$  we can compute that $M_v=15.44\\mathrm{[kg\\;m^{-2}]}$ or $1.54 \\; \\mathrm{[g\\;cm^{-2}]}$."
   ]
  },
  {
   "cell_type": "code",
   "execution_count": 2,
   "metadata": {},
   "outputs": [],
   "source": [
    "#Download Moduels \n",
    "import numpy as np\n",
    "import pandas as pd\n",
    "import matplotlib.pyplot as plt"
   ]
  },
  {
   "cell_type": "code",
   "execution_count": 3,
   "metadata": {},
   "outputs": [
    {
     "data": {
      "image/png": "[encoded data removed]",
      "text/plain": [
       "<Figure size 720x432 with 1 Axes>"
      ]
     },
     "metadata": {
      "needs_background": "light"
     },
     "output_type": "display_data"
    }
   ],
   "source": [
    "plt.rcParams[\"font.family\"] = \"Times New Roman\"\n",
    "plt.rcParams[\"font.size\"] = 20 \n",
    "\n",
    "# Plot all components\n",
    "plt.figure(figsize=(10, 6))\n",
    "\n",
    "# Data\n",
    "z = np.arange(1, 10.1, 0.1)  # equivalent to 1:0.1:10 in Matlab\n",
    "rho_0 = 7.72  # [g/m^3]\n",
    "H_v = 2  # [km]\n",
    "rho_v = rho_0 * np.exp(-z / H_v)\n",
    "\n",
    "# Plot\n",
    "plt.plot(rho_v, z, linewidth=2)\n",
    "plt.axis('square')\n",
    "plt.grid(True)\n",
    "plt.legend([r'$\\rho_v = \\rho_0 e^{-z/H_v} [g.m^{-3}]$'])\n",
    "\n",
    "# Labels\n",
    "plt.xlabel(r'$\\rho_v \\ [g.m^{-3}]$')\n",
    "plt.ylabel(r'$z \\ [km]$')\n",
    "\n",
    "# Show plot\n",
    "plt.show()"
   ]
  },
  {
   "cell_type": "markdown",
   "metadata": {},
   "source": [
    "### 1-3 Atmospheric Pressure and Density Profiles\n",
    "\n",
    "Gravitational force is the  main force contributing to atmospheric pressure. The earth's atmospheric mass per unit area at the surface is around $10^4\\;\\mathrm{[kg\\;m^{-2}]}$. The air pressure at earth surface is thus around $10^5\\;\\mathrm{Pascal [Pa]}$ or $\\mathrm{[N.m^{-2}]}$. Approximately 90% of the atmospheric weight lies below $15\\;\\mathrm{[km]}$.\n",
    "\n",
    "**common pressure units are:**\n",
    "\n",
    "- 1 [bar]=10^5 [Pa]\n",
    "- **1 [mbar]=100 [Pa]=1 [hPa]**\n",
    "- 1 [atm]=1.01325 [bar]= $1.01325\\times 10^5$ [Pa].\n",
    "\n",
    "Atmospheric pressure and density are tightly coupled and decaying almost exponentially as a function of atmospheric height. Density of air has an average value of 1.2-1.3 $\\mathrm{[kg\\;m^{-3}]}$  near the Earth's surface.\n",
    "\n",
    "The standard atmospheric pressure profile has the following exponetial form:\n",
    "\n",
    "$$ P(z)=P_0 e^{-\\frac{z}{H_p}} \\; \\mathrm{[mbar]} \\;\\; 0 \\leq z \\leq 10 \\mathrm{[km]}$$\n",
    "\n",
    "\n",
    "where $P_0=1013.25\\; \\mathrm{[mbar]}$ is the sea-level pressure and $H_p=7.7\\; \\mathrm{[km]}$ is a scale parameter. "
   ]
  },
  {
   "cell_type": "code",
   "execution_count": 4,
   "metadata": {},
   "outputs": [
    {
     "data": {
      "image/png": "[encoded data removed]",
      "text/plain": [
       "<Figure size 720x432 with 1 Axes>"
      ]
     },
     "metadata": {
      "needs_background": "light"
     },
     "output_type": "display_data"
    }
   ],
   "source": [
    "plt.rcParams[\"font.size\"] = 20 \n",
    "# Plot all components\n",
    "plt.figure(figsize=(10, 6))\n",
    "\n",
    "# Data\n",
    "z = np.arange(1, 10.1, 0.1)  # equivalent to 1:0.1:10 in Matlab\n",
    "p_0 = 1013.25  # [mbar]\n",
    "H_p = 7.7  # [km]\n",
    "p = p_0 * np.exp(-z / H_p)\n",
    "\n",
    "# Plot\n",
    "plt.plot(p, z, 'r', linewidth=2)\n",
    "plt.gca().set_facecolor((0.95, 0.95, 0.95))\n",
    "plt.axis('square')\n",
    "plt.grid(True)\n",
    "plt.legend([r'$p(z) = p_0 e^{-z/H_p} \\ [mbar]$'])\n",
    "\n",
    "# Labels\n",
    "plt.xlabel(r'$p \\ [mbar]$')\n",
    "plt.ylabel(r'$z \\ [km]$')\n",
    "\n",
    "# Show plot\n",
    "plt.show()"
   ]
  },
  {
   "cell_type": "markdown",
   "metadata": {},
   "source": [
    "The density of dry air decreases exponentially with altitude according to the following strandard representaiton:\n",
    "\n",
    "\n",
    "$$ \\rho_{air}(z)=\\rho_0 e^{-\\frac{z}{H_d}} \\; \\mathrm{[kg\\;m^{-3}]} \\;\\; 0 \\leq z \\leq 10 \\mathrm{[km]}$$\n",
    "\n",
    "where $\\rho_0=1.225\\; \\mathrm{[kg\\;m^{-3}]}$ and $H_d=9.5\\; \\mathrm{[km]}$. "
   ]
  },
  {
   "cell_type": "code",
   "execution_count": 5,
   "metadata": {},
   "outputs": [
    {
     "data": {
      "image/png": "[encoded data removed]",
      "text/plain": [
       "<Figure size 864x576 with 1 Axes>"
      ]
     },
     "metadata": {
      "needs_background": "light"
     },
     "output_type": "display_data"
    }
   ],
   "source": [
    "plt.rcParams[\"font.size\"] = 20 \n",
    "# Plot all components\n",
    "plt.figure(figsize=(12, 8))\n",
    "\n",
    "# Data\n",
    "z = np.arange(1, 10.1, 0.1)  # equivalent to 1:0.1:10 in Matlab\n",
    "H_d = 9.5  # [km]\n",
    "rho_a0 = 1.225  # [kg/m^3]\n",
    "rho_a = rho_a0 * np.exp(-z / H_d)\n",
    "\n",
    "# Plot\n",
    "plt.plot(rho_a, z, 'k', linewidth=2)\n",
    "plt.gca().set_facecolor((0.95, 0.95, 0.95))\n",
    "plt.axis('square')\n",
    "plt.grid(True)\n",
    "plt.legend([r'$\\rho_a(z) = \\rho_{a0} e^{-z/H_d} \\ [kg \\cdot m^{-3}]$'])\n",
    "\n",
    "# Labels\n",
    "plt.xlabel(r'$\\rho_a \\ [kg \\cdot m^{-3}]$')\n",
    "plt.ylabel(r'$z \\ [km]$')\n",
    "\n",
    "# Show plot\n",
    "plt.show()"
   ]
  },
  {
   "cell_type": "markdown",
   "metadata": {},
   "source": [
    "### 1-4 Atmospheric Temperature Profile\n",
    "\n",
    "\n",
    "The variation of atmospheric temperature with height, $T(z)$ exhibits a cyclic pattern that subdivides the Earth’s atmosphere into a number of atmospheric layers. The height profile shown in the following figure consists of four layers: the **troposphere, stratosphere, mesosphere,** and **thermosphere**. Adjacent layers are separated by a boundary defined as the height at which the temperature gradient $\\frac{dT}{dz}$ changes from a nonzero magnitude to zero. If $\\frac{dT}{dz}$ is negative, its magnitude is called the **temperature lapse rate**. Theoretical temperature laps rate in a **dry atmopsphere** is 9.5 K/km. In the standard atmosphere model, the moist lapse rate in the troposphere is **6.5 K/km**.\n",
    "\n",
    "<div style=\"text-align: center;\">\n",
    "  <img src=\"Figures/Ch2/Ch2F4.png\" alt=\"Figure 4\" style=\"width: auto; height: 350px;\">\n",
    "</div>\n",
    "\n",
    "For the U.S. or International Standard Atmosphere (ISA), the atmospheric temperature  is given by\n",
    "\n",
    "$$\n",
    "T(z) = \\begin{cases}\n",
    "T_0-\\Gamma z & 0\\leq z\\leq11\\, \\text{km}\\\\\n",
    "T(11) & 11\\leq z\\leq20\\, \\text{km} \\\\\n",
    "T(11)+(z-20) & 20\\leq z\\leq32\\, \\text{km} \\\\\n",
    "\\end{cases}$$\n",
    "\n",
    "\n",
    "where $z$ is height above sea level in km, $T_0$ is the sea-level atmospheric temperature and $T(11)$ is the atmospheric temperature at $z=11$  km, both in kelvin, and $\\Gamma$ is the **temperature lapse rate** in the lower 11 km of the atmosphere. For the U.S. and ISA Standard Atmosphere models, $T_0=288.15$ K and $\\Gamma_d=6.5$ K/km."
   ]
  },
  {
   "cell_type": "markdown",
   "metadata": {},
   "source": [
    "### 1-5 Equation of State for Dry and Moist Air\n",
    "\n",
    "**Equation of state for Dry Air:**\n",
    "\n",
    "Roughly speaking, an **ideal gas** is a hypothetical gas whose molecules occupy a negligible volume compared to the entire space that the gas occupies and whose molecular movements are approximately independent of one another. \n",
    "\n",
    "For an ideal gas, the states are related to each other as follows, known as the **ideal gas law**:\n",
    "\n",
    "$$PV=nR^{*}T,$$\n",
    "\n",
    "\n",
    "- $P$: pressure [Pa]\n",
    "- $V$: volume [$\\mathrm{m^3}$] \n",
    "- $n$.: number of moles of the gas\n",
    "- $R^*$: universal gas constant, 8.314 [$\\mathrm{Joule\\;Mole^{-1}K^{-1}}$] \n",
    "- $T$: Temperature [$\\mathrm{K}$].\n",
    "\n",
    "\n",
    "The **mole** is a unit of measurement for amount of a substance. It is defined as the amount of a substance that contains as many atoms as there are in 12 grams of pure Carbon-12, which is 6.02214 [\\# atoms/mole], known as the Avogadro constant. Dividing both sides by the mass ($m$) of the gas molecules to obtain the intensive form of the ideal gas law, we get \n",
    "\n",
    "$$P\\,\\frac{V}{m}=\\frac{n}{m}R^{*}T$$\n",
    "\n",
    "\n",
    "Given that $v=\\frac{V}{m}=\\frac{1}{\\rho}$ is the **specific volume**, $M=\\frac{m}{n}$  represents the **molar mass** of the gas and $R=\\frac{R^*}{M}$  denotes the **specific gas constant** $\\mathrm{[J\\;kg^{-1}K^{-1}}]$, we have $Pv=RT$ , which can be organized as $P=\\rho R T$, where $\\rho$ is the gas density $\\mathrm{[kg\\;m^{-3}]}$."
   ]
  },
  {
   "cell_type": "markdown",
   "metadata": {},
   "source": [
    "Air is a mixture of gases and thus we need to generalize the ideal gas law to a mixture of gas molecules. Pressure of a mixture of gasses is explained by the Dalton's law of partial pressures. The Dalton's Law states that the total pressure of a mixture of ideal gasses is equal to the sum of the partial pressures of each individual gas. The ideal gas law for $j$th gas is $P_j=\\rho_jR_jT$, which can be expressed as follows, considering $\\rho_j=\\frac{m_j}{V}$:\n",
    "\n",
    "$$P_jV=m_jR_jT$$\n",
    "\n",
    "<div style=\"text-align: center;\">\n",
    "  <img src=\"Figures/Ch2/Ch2F5.png\" alt=\"Figure 5\" style=\"width: auto; height: 400px;\">\n",
    "</div>\n",
    "\n",
    "Using Dalton's law of superposition, one can obtain $V\\sum_jP_j=T\\sum_jm_jR_j$ and thus\n",
    "\n",
    "$$\\sum_jP_j\\frac{V}{\\sum_jm_j}=T\\frac{\\sum_jm_jR_j}{\\sum_jm_j}$$\n",
    "\n",
    "Given that $P=\\sum_jP_j$, and the specific volume $v=\\frac{V}{\\sum_j}$, we ahve\n",
    "\n",
    "$$ P_v=T\\frac{\\sum_jm_jR_j}{\\sum_jm_j}=T\\frac{m_1R_1+m_2R_2+...}{\\sum_jm_j} $$\n",
    "\n",
    "\n",
    "Therefore, specific gas constant of a mixture of gases is the weighted average of the specific gas constants of each gas, where the weights are the ratio of the mass of each gas to the mass of the mixture . As a result, one can simply compute the specific gas constant of the dry air ($R_d$) as follows:\n",
    "\n",
    "\n",
    "$$R_d \\approx 0.75R_{nitrogen}+0.23R_{oxygen}+...=0.75 \\times 296.8 + 0.23 \\times 259.8 + ... = 287.14 $$\n",
    "\n",
    "which is identical to $R_d=\\frac{R^*}{M_d}$, where $M_d=28.96\\;\\mathrm{[gram\\;mole^{-1}]}$ is the molar mass of the dry air. \n",
    "\n",
    "Thus, for a dry air parcel, we have,\n",
    "\n",
    "$$P=\\rho R_dT$$\n",
    "\n",
    "The above equation is the **equation of state for dry air**. \n",
    "\n",
    "Now the question is -- how can we modify this equation for a **moist air** parcel? We need to note that the water vapor is another gas that can change the pressure as it alters both density and specific gas constant of the air. "
   ]
  },
  {
   "cell_type": "markdown",
   "metadata": {},
   "source": [
    "**Equation of State for Moist Air:**\n",
    "\n",
    "Let us assume that the water vapor is not near condensation, and write the ideal gas law only for the water vapor:\n",
    "\n",
    "$$e=\\rho_v R_vT$$\n",
    "\n",
    "where $e$ is the **water vapor partial pressure**, $\\rho_v \\approx 0.804\\;\\mathrm{[kg\\;m^{-3}]}$ and $R_v=\\frac{R^*}{M_v}=461.51\\;[\\mathrm{J\\;kg^{-1}K^{-1}}]$ is the water vapor specific gas constant---given that the water vapor molar mass is $M_v=18\\;\\mathrm{[grams\\;mole^{-1}]}$.\n",
    "\n",
    "In a mixture of dry air and water vapor, using the Dalton's Law, we have, \n",
    "\n",
    "$$ P=P_d+e=(\\rho_d R_d+\\rho_v R_v)T. $$\n",
    "\n",
    "Previously, we showed that the specific gas constant of a gas mixture can be calculated via weighted averaging as follows:\n",
    "\n",
    "$$ R=\\frac{m_dR_d+m_vR_v}{m_d+m_v}=\\frac{m_d}{m_d+m_v}R_d+\\frac{m_v}{m_d+m_v}R_v $$\n",
    "\n",
    "From this, we define an important variable called **specific humidity** as follows\n",
    "\n",
    "$$ q_v=\\frac{m_v}{m_d+m_v}$$\n",
    "\n",
    "which expresses the moisture content of the atmosphere in terms of mass of water to the mass of air such as $\\mathrm{[gram\\;of\\;water/gram\\;of\\;air]}$.\n",
    "\n",
    "Therefore, the specific gas constant for the moist air can be written as follows: \n",
    "\n",
    "$$ R=(1-q_v)R_d +q_vR_v$$\n",
    "\n",
    "At the same time, we know that $R^*=R_vM_v=R_dM_d$ and thus we have\n",
    "\n",
    "$$R_v=R_d\\frac{M_d}{M_v}=R_de^{-1}$$\n",
    "\n",
    "where $e=\\frac{M_v}{M_d}=\\frac{18}{28.96}=0.622.$\n",
    "\n",
    "we also have $ R=(1-q_v)R_d+q_vR_de^{-1}=R_d(1+0.608q_v)$ and thus combining this equation and ideal gas law $P=\\rho RT$ , we have\n",
    "\n",
    "$$P=\\rho R_d(1+0.608q_v)T=\\rho R_dT_v$$\n",
    "\n",
    "where $T_v=(1+0.608q_v)R$ is called **virtual temperature**, which is a **hypothetical temperature that a dry air parcel should have to represent the same density and pressure of moist air**.\n",
    "\n",
    "\n",
    "Therefore, the ideal gas law for moist air can be stated as follows:\n",
    "\n",
    "$$P=\\rho R_d T_v$$\n",
    "\n",
    "The specific humidity rarely exceeds 0.02 $\\mathrm{[gram\\;of\\;water/gram\\;of\\;air]}$, so $T_v$ rarely exceeds the normal temperature by more than 2-3 $\\mathrm{[K]}$.  However, we should note that changes in humidity could have important implications on air density and thus atmospheric stability. Note that a moist air is always **less dense** than its dry air counterpart. Therefore, when air parcels near the earth surface pick moisture, they become lighter and ascend to higher levels.  "
   ]
  },
  {
   "cell_type": "markdown",
   "metadata": {},
   "source": [
    "### 1-6 Hydrostatic Equilibrium and Pressure Profiles\n",
    "\n",
    "#### 1-6-1 Hydrostatic Equilibrium:\n",
    "\n",
    "We know from basics of fluid mechanics that the difference in fluid pressure  because of a change of depth , can be explained as follows:\n",
    "\n",
    "$$ dp=-\\rho(z)gdz$$\n",
    "\n",
    "where $-\\rho(z)$ is the fluid density as a function of elevation from a datum and $g=9.81 \\mathrm{[\\frac{m}{s^2}]}$ represents the gravitational acceleration. The negative sign encodes the fact that the pressure decreases with elevation. The above equation is often referred to as the **hydrostatic equilibrium**, which is valid when the fluid is at rest or the flow velocity at each point is constant over time.\n",
    "\n",
    "One can integrate the hydrostatic equation as follows:\n",
    "\n",
    "$$ \\int_0^zdP=\\int_0^z-\\rho(z)gdz $$\n",
    "\n",
    "Because air is compressible and density decreases as a function of atmospheric height, the above integration is not straightforward and we need a model to explain the changes in atmospheric density at different elevations. "
   ]
  },
  {
   "cell_type": "markdown",
   "metadata": {},
   "source": [
    "#### 1-6-2 Atmosphreic Pressure Profile:\n",
    "\n",
    "**Constant Temperature in an Isothermal Atmosphere:**\n",
    "\n",
    "$$ P_2 = P_1\\exp\\left[ \\frac{-g}{R_dT_v}(z_2-z_1)\\right]  $$\n",
    "\n",
    "---\n",
    "\n",
    "**Proof**: Given that $ dp=-\\rho(z)gdz$ and from the ideal gas law $\\rho=\\frac{P}{R_dT_v}$, we have\n",
    "\n",
    "\n",
    "$$ \\int_{P_1}^{P_2}\\frac{dP}{P}= \\int_{z_1}^{z_2}\\frac{-g}{R_dT_v}dz $$\n",
    "\n",
    "for a finite thickness $\\Delta z=z_2-z_1$  and constant $T_v$ , one can obtain:\n",
    "\n",
    "$$ \\ln P_2 - \\ln P_1 = \\frac{-g}{R_r T_v}(z_2-z_1) \\Rightarrow P_2 = P_1\\exp\\left[ \\frac{-g}{R_dT_v}(z_2-z_1)\\right] $$\n",
    "\n",
    "which is known as the **hypsometric equation** that explains atmospheric pressure versus height in an isothermal atmosphere. \n",
    "\n",
    "___\n",
    "\n"
   ]
  },
  {
   "cell_type": "markdown",
   "metadata": {},
   "source": [
    "**Constant Temperature Lapse Rate ($\\Gamma$):**\n",
    "\n",
    "\n",
    "$$ P=P_0\\left( \\frac{T_v}{T_{v0}}\\right)^\\frac{g}{R_d\\Gamma}.  $$\n",
    "\n",
    "---\n",
    "\n",
    "**Proof**: Let us assume that the lapse rate of the virtual temperature is denoted by $T_v=T_{v0}-\\Gamma z$ , where $\\Gamma=-\\frac{dT_v}{dz}$  is the ambient temperature lapse rate. \n",
    "\n",
    "Integrating both sides of hydrostatic equation, from $(P_0,T_v0)$ to $(P,T_v)$ , one can obtain the following expression for changes of the pressure profile:\n",
    "\n",
    "$$ \\ln \\frac{P}{P_0}=\\frac{g}{R_d\\Gamma}\\ln\\left( \\frac{T_{v0}-\\Gamma z}{T_{v0}}\\right)\\Rightarrow P=P_0\\left( \\frac{T_v}{T_{v0}}\\right)^\\frac{g}{R_d\\Gamma}.$$\n",
    "\n",
    "\n",
    "It is important to note that even assuming a linear temperature profile, the pressure profile is non-linear.\n",
    "\n",
    "---"
   ]
  },
  {
   "cell_type": "markdown",
   "metadata": {},
   "source": [
    "### 1-7 Clausius-Clapeyron Equation\n",
    "\n",
    "Air has limited capacity to hold water and becomes eventually saturated depending on its temperature. **A warmer air can hold more water vapor**. It can be shown that the water vapor pressure at **saturation condition** $e_s\\mathrm{[Pa]}$  is only a function of air temperature $T$. This relationship is explained through the **Clausius-Clapeyron (CC)** equation:\n",
    "\n",
    "$$ e_{s}(T)=611\\exp\\left[ -\\frac{\\mathcal{L}_{v}}{R_v}\\left( \\frac{1}{T_a}-\\frac{1}{273.15}\\right)\\right] \\quad \\text{[Pa]} $$\n",
    "\n",
    "where the air tempertuare $T_a$ is in Kelvin and\n",
    "\n",
    "- $\\mathcal{L}_{v}$: latent heat of vaporization = $2.5 \\times 10^6 \\mathrm{[J\\;kg^{-1}]}$\n",
    "- $R_v$: Water vapor specific gas constant = $461 \\mathrm{[J\\;kg^{-1}K^{-1}]}$\n",
    "\n",
    "The Clausius-Clapeyron equation can be simplified as follows:\n",
    "\n",
    "$$ e_{s}(T)=611\\exp\\left[ \\frac{17.27 \\times T_a}{237.3+T_a}\\right] \\quad  \\text{[Pa]} $$\n",
    "\n",
    "where the air tempertuare $T_a$ is in Celsius. \n"
   ]
  },
  {
   "cell_type": "code",
   "execution_count": 6,
   "metadata": {},
   "outputs": [
    {
     "data": {
      "image/png": "[encoded data removed]",
      "text/plain": [
       "<Figure size 864x576 with 1 Axes>"
      ]
     },
     "metadata": {
      "needs_background": "light"
     },
     "output_type": "display_data"
    }
   ],
   "source": [
    "plt.rcParams[\"font.size\"] = 20 \n",
    "# Plot all components\n",
    "plt.figure(figsize=(12, 8))\n",
    "\n",
    "# Data\n",
    "T = np.arange(1, 40.1, 0.1)  # Temperature range [C]\n",
    "e_s = 611 * np.exp(17.27 * T / (237.3 + T))  # Saturated Water Vapor Pressure [Pa]\n",
    "\n",
    "# Plot\n",
    "plt.plot(T, e_s, linewidth=2)\n",
    "plt.grid(True)\n",
    "plt.xlabel('Temp [C]')\n",
    "plt.ylabel('Saturated Water Vapor Pressure e_s [Pa]')\n",
    "plt.show()"
   ]
  },
  {
   "cell_type": "markdown",
   "metadata": {},
   "source": [
    "As discussed before, the water vapor pressure  represents partial pressure of water vapor in atmosphere\n",
    "\n",
    "$$ P=e+P_d $$\n",
    "\n",
    "where $P$ is the total air pressure and $P_d$ denotes the dry air pressure. Typical values of the partial water vapor pressure near the earth surface varies from 10 to 30 [hPa]."
   ]
  },
  {
   "cell_type": "markdown",
   "metadata": {},
   "source": [
    "### 1-8 Quantifying Atmospheric Water\n",
    "\n",
    "\n",
    "- **Specific Humidity:** is the ratio of the mass of water vapor to the total mass of dry air and water vapor.\n",
    "\n",
    "$$ q_v=\\frac{m_v}{m_v+m_d} $$\n",
    "\n",
    "where $m_v$ and $m_d$ are the masses of water vapor and dry air in a unit volume of air. Therefore, the unit of $q_v$ is [kg of water/kg of air]. Using the ideal gas law, $P=\\rho RT$ , the specific humidity can be further expanded as follows:\n",
    "\n",
    "$$ q_v=\\frac{\\rho_v}{\\rho_v+\\rho_d}=\\frac{\\frac{P_v}{R_v T}}{\\frac{P_d}{R_d T}+\\frac{P_v}{R_v T}}=\\frac{\\frac{e}{R_v T}}{\\frac{P-e}{R_d T}+\\frac{e}{R_v T}}=\\epsilon \\frac{e}{P-(1-\\epsilon)e} $$\n",
    "\n",
    "where $\\epsilon=\\frac{R_d}{R_v}=0.622$, $e$ is the water vapor pressure and  is the total air pressure. \n",
    "\n",
    "- **Mixing Ratio:** is the ratio of the mass of the water vapor to the mass of dry air.\n",
    "\n",
    "$$ w_v=\\frac{m_v}{m_d}=\\epsilon \\frac{e}{P-e} $$\n",
    "\n",
    "where the unit is [kg of water/kg of dry air]. For the case where the water vapor pressure $e \\ll P$, the following approximation holds:\n",
    "\n",
    "$$ q_v \\simeq w_v \\simeq \\epsilon \\frac{e}{P} $$\n",
    "\n",
    "**Note:** We can see from the Clausius-Clapeyron that the saturated water vapor pressure is only a function of temperature; however, the saturated specific humidity or mixing ratio are also a function of total air pressure.\n",
    "\n",
    "- **Relative Humidity:** is the ratio of water vapor pressure to the saturated water vapor pressure.\n",
    "\n",
    "$$ \\text{RH}=\\frac{e}{e_s} \\cong \\frac{q_v}{q_s} \\cong \\frac{w_v}{w_s}. $$\n",
    "\n",
    "Clearly $0 \\leq RH \\leq 100$ and shows strong diurnal variability as it is a function of $e_s(T)$.\n",
    "\n",
    "- **Precipitable Water:** is the total mass of water in the atmospheric column per area from surface to top of the atmosphere, \n",
    "\n",
    "$$ \\mathcal{W}_v = \\int_{0}^{\\infty}\\rho_v(z) dz,\\quad [\\rm kg\\,m^{-2}] $$\n",
    "\n",
    "\n",
    "where $\\rho(z)$ is the density of the water vapor at elevation $z$.\n",
    "\n",
    "We can present the total precipitable water (TPW) in terms of the depth of liquid water as $h_{TPW}=\\frac{\\mathcal{W}_v}{\\rho_w}$, where $\\rho_w$ is the density of liquid water. Obviously, one can further expand the calculation of TPW in terms of the vertical profile of the atmospheric pressure using the hydrostatic pressure equation $dp=-\\rho_a(z)gd(z)$ as follows:\n",
    "\n",
    "$$ \\mathcal{W}_v=\\frac{1}{g}\\int_0^{P_0}\\,\\frac{\\rho_v}{\\rho_a}\\,dp\\cong \\frac{1}{g}\\int_{0}^{P_0}q_v dp\\cong \\frac{1}{g}\\int_{0}^{P_0}w_v dp, $$\n",
    "\n",
    "where $\\rho_a$ is the air density and we assumed that the pressure is zero when $z \\rightarrow \\infin$  and is  at the surface $z=0$. Note that, we changed the integration variable from elevation to pressure and thus the negative sign is disapeared.  \n",
    "\n",
    "\n",
    "- **Dew Point Temperature:** is the temperature to which the air must be cooled to reach its saturation level. Therefore, when relative humidity is low, the due point temperature is way colder than the actual temperature and vice versa. The relationship between the dew point and air temperature through their corresponding saturated water vapor pressure values is shown below. The blue curve shows the Clausius-Clapeyron equation and the blue dot is the water vapor pressure (not in saturation condition) for an air with tempertaure $T_a$\n",
    "\n",
    "<div style=\"text-align: center;\">\n",
    "  <img src=\"Figures/Ch2/Ch2F6.png\" alt=\"Figure 6\" style=\"width: auto; height: 300px;\">\n",
    "</div>\n",
    "\n",
    "- **Vapor Pressure Deficit:** is the difference between the saturated and actual water vapor pressure , which is zero when the air is saturated. \n",
    "\n",
    "- **Dry and Wet bulb Temperature:** The dry bulb temperature of air is the usual temperature measured by a thermometer. The wet bulb temperature is the temperature measured by a thermometer, while it is covered by a wet cotton cloth.  The wet bulb temperature is the temperature that an air parcel would have if it is brought to its saturation level by evaporative cooling. In other words, it is the lowest temperature that can be reached by evaporating water from an air parcel while the internal energy of the air is used for the evaporation. The wet bulb temperature is always less than or equal to the actual temperature and is greater than the dew point temperature. When relative humidity increases the difference between the dry and wet bulb temperature decreases and vice versa.\n"
   ]
  },
  {
   "cell_type": "markdown",
   "metadata": {},
   "source": [
    "---\n",
    "\n",
    "**Example Problem 2.1:** What is the density of moist air at a pressure of 1000 mb, air temperature of 15 C, and vapor pressure of 20 mb? How does the density change as a function of vapor pressure? Solution: The density of moist air is the sum of the density of dry air and density of water vapor  in a unit volume of air\n",
    "\n",
    "Solution: The density of moist air is the sum of the density of dry air and density of water vapor  in a unit volume of air\n",
    "\n",
    "$$ \\rho=\\rho_d+\\rho_v $$\n",
    "\n",
    "$$ \\rho=\\frac{P_d}{R_d T}+\\frac{P_v}{R_v T}= \\frac{(P-e)}{R_d T}+\\frac{e}{R_vT} $$\n",
    "\n",
    "where $P_d=P-e$ and $P_v=e$ are the partial pressure of dry air and water vapor and $R_d=287$ and $R_v=461 \\mathrm{[Jkg^{-1}K^{-1}]}$\n",
    "\n",
    "$$ \\rho=\\frac{P}{R_d T}\\left[1-(1-\\epsilon)\\frac{e}{P} \\right]= \\frac{(P-(1-e)e)}{R_d T_a} $$\n",
    "\n",
    "where $\\epsilon=\\frac{R_d}{R_v}=0.622$.\n",
    "\n",
    "Knowing that $P=\\rho R_dT_v$, then we have\n",
    "$$ T_v=\\frac{T}{\\left[1-(1-\\epsilon)\\frac{e}{P} \\right]} $$"
   ]
  },
  {
   "cell_type": "code",
   "execution_count": 38,
   "metadata": {},
   "outputs": [
    {
     "name": "stdout",
     "output_type": "stream",
     "text": [
      "T_v : 290.345\n",
      "ρ : 1.200\n"
     ]
    }
   ],
   "source": [
    "T_a = 15;     # air temperature C\n",
    "eps = 0.622; \n",
    "e = 20*100; # [pa] \n",
    "p=10**5;     # [pa]\n",
    "R_d = 287;  # [Jkg^-1K^-1]\n",
    "T_v = (T_a+273.15)/(1-(1-eps)*e/p)\n",
    "print(f\"T_v : {T_v:0.3f}\")\n",
    "rho = p/(R_d*T_v)  #[kg m^-3]\n",
    "print(f\"\\u03C1 : {rho:0.3f}\")"
   ]
  },
  {
   "cell_type": "markdown",
   "metadata": {},
   "source": [
    "**Example Problem 2.2** Let us assume that a parcel of air has a vapor pressure of 1250 [Pa], a temperature of 25 C, and a pressure of 99000 [Pa], determine a) vapor density, b) specific humidity, c) relative humidity, d) dew point temprtaure, and vapor pressure deficit. \n",
    "\n",
    "**Solution:** \n",
    "a) The The vapor density can be calculated using the ideal gas law for water vapor\n",
    "$$\\rho_v=\\frac{e}{R_vT}$$"
   ]
  },
  {
   "cell_type": "code",
   "execution_count": 5,
   "metadata": {},
   "outputs": [
    {
     "name": "stdout",
     "output_type": "stream",
     "text": [
      "ρ_v : 0.010\n"
     ]
    }
   ],
   "source": [
    "%reset -f\n",
    "eps = 0.622;\n",
    "e = 1250;    # [Pa]\n",
    "R_v = 461;   # [J Kg-1 K-1]\n",
    "T_a = 25;    # [C]\n",
    "rho_v = e/(R_v*(T_a+237.15)) # [kg of water/ m3 of air]\n",
    "print(f\"\\u03C1_v : {rho_v:0.3f}\")"
   ]
  },
  {
   "cell_type": "markdown",
   "metadata": {},
   "source": [
    "b) The specific humidity is $q_v=\\epsilon*\\frac{e}{P-(1-e)e}$"
   ]
  },
  {
   "cell_type": "code",
   "execution_count": 6,
   "metadata": {},
   "outputs": [
    {
     "name": "stdout",
     "output_type": "stream",
     "text": [
      "q_v : 7.891\n"
     ]
    }
   ],
   "source": [
    "p = 99000;   # [Pa]\n",
    "q_v = eps*e/(p-(1-eps)*e)*1000 # [gram of water/gram of air]\n",
    "print(f\"q_v : {q_v:0.3f}\")"
   ]
  },
  {
   "cell_type": "markdown",
   "metadata": {},
   "source": [
    "c) To compute the relative humidity, we need to calculate the saturated vapor pressure using the Clausius Clapeyron equation:\n",
    "$$ RH=\\frac{e}{e_s} $$"
   ]
  },
  {
   "cell_type": "code",
   "execution_count": 7,
   "metadata": {},
   "outputs": [
    {
     "name": "stdout",
     "output_type": "stream",
     "text": [
      "Relative Humidity: 39.45%\n"
     ]
    }
   ],
   "source": [
    "import numpy as np\n",
    "\n",
    "def e_s(T_a):\n",
    "    return 611 * np.exp(17.27 * T_a / (237.3 + T_a))\n",
    "\n",
    "# Calculate relative humidity\n",
    "RH = e / e_s(T_a) * 100\n",
    "\n",
    "print(f\"Relative Humidity: {RH:.2f}%\")"
   ]
  },
  {
   "cell_type": "markdown",
   "metadata": {},
   "source": [
    "d) The dew point temprature is a tempertaure associated with water vapor pressure e [pa] when air is saturated as shown the the above figure. "
   ]
  },
  {
   "cell_type": "code",
   "execution_count": 11,
   "metadata": {},
   "outputs": [
    {
     "name": "stdout",
     "output_type": "stream",
     "text": [
      "dew point: 10.87%\n"
     ]
    }
   ],
   "source": [
    "def T_dew(e_s):\n",
    "    return 17.27**-1*(237.15+T_a)*np.log(e_s/611)\n",
    "\n",
    "# Calculate dew point\n",
    "print(f\"dew point: {T_dew(e):.2f}%\")"
   ]
  },
  {
   "cell_type": "markdown",
   "metadata": {},
   "source": [
    "e) The vapor pressure deficit is "
   ]
  },
  {
   "cell_type": "code",
   "execution_count": 12,
   "metadata": {},
   "outputs": [
    {
     "name": "stdout",
     "output_type": "stream",
     "text": [
      "VPD: 1918.81%\n"
     ]
    }
   ],
   "source": [
    "VPD = e_s(T_a) - e  # [Pa]\n",
    "print(f\"VPD: {VPD:.2f}%\")"
   ]
  },
  {
   "cell_type": "markdown",
   "metadata": {},
   "source": [
    "**Example Problem 2.3** Estimate the precipitable water knowing that at elevations z = 0, 2.5, 5, 7.5 and 10 km, the specific humidity is 10, 5, 2.5, 1.25 and 0.75 [g water/kg of air]. Assume standard atmosphere for the pressure profile.  \n",
    "\n",
    "Solutions:\n",
    "$$ \\mathcal{W}_v = \\frac{1}{g}\\int_{0}^{P_0}q_v\\,dp = \\frac{1}{g}\\sum_i \\frac{(q_v^{i}+q_v^{i-1})}{2} (P^{i-1}-P^i) $$"
   ]
  },
  {
   "cell_type": "code",
   "execution_count": 21,
   "metadata": {},
   "outputs": [
    {
     "name": "stdout",
     "output_type": "stream",
     "text": [
      "Pressure at given altitudes (p_z):[101325.          73233.85747471  52930.64772393  38256.2596739\n",
      "  27650.16993313]\n"
     ]
    }
   ],
   "source": [
    "import numpy as np\n",
    "\n",
    "# Data\n",
    "z = np.array([0, 2.5, 5.0, 7.5, 10])  # km\n",
    "qv_z = np.array([10, 5, 2.5, 1.25, 0.75]) * 10**-3  # [kg water / kg of air]\n",
    "p_0 = 1013.25 * 10**2  # [Pa]\n",
    "H_p = 7.7  # [km]\n",
    "\n",
    "def p(z):\n",
    "    return p_0 * np.exp(-z / H_p)\n",
    "\n",
    "p_z = p(z)\n",
    "print(f\"Pressure at given altitudes (p_z):{p(z)}\")"
   ]
  },
  {
   "cell_type": "code",
   "execution_count": 59,
   "metadata": {},
   "outputs": [
    {
     "data": {
      "text/html": [
       "<div>\n",
       "<style scoped>\n",
       "    .dataframe tbody tr th:only-of-type {\n",
       "        vertical-align: middle;\n",
       "    }\n",
       "\n",
       "    .dataframe tbody tr th {\n",
       "        vertical-align: top;\n",
       "    }\n",
       "\n",
       "    .dataframe thead th {\n",
       "        text-align: right;\n",
       "    }\n",
       "</style>\n",
       "<table border=\"1\" class=\"dataframe\">\n",
       "  <thead>\n",
       "    <tr style=\"text-align: right;\">\n",
       "      <th></th>\n",
       "      <th>qv_bar</th>\n",
       "      <th>dp</th>\n",
       "      <th>w_v</th>\n",
       "    </tr>\n",
       "  </thead>\n",
       "  <tbody>\n",
       "    <tr>\n",
       "      <th>0</th>\n",
       "      <td>0.000000</td>\n",
       "      <td>0.000000</td>\n",
       "      <td>0.000000</td>\n",
       "    </tr>\n",
       "    <tr>\n",
       "      <th>1</th>\n",
       "      <td>0.007500</td>\n",
       "      <td>28091.142525</td>\n",
       "      <td>21.476409</td>\n",
       "    </tr>\n",
       "    <tr>\n",
       "      <th>2</th>\n",
       "      <td>0.003750</td>\n",
       "      <td>20303.209751</td>\n",
       "      <td>7.761166</td>\n",
       "    </tr>\n",
       "    <tr>\n",
       "      <th>3</th>\n",
       "      <td>0.001875</td>\n",
       "      <td>14674.388050</td>\n",
       "      <td>2.804738</td>\n",
       "    </tr>\n",
       "    <tr>\n",
       "      <th>4</th>\n",
       "      <td>0.001000</td>\n",
       "      <td>10606.089741</td>\n",
       "      <td>1.081151</td>\n",
       "    </tr>\n",
       "  </tbody>\n",
       "</table>\n",
       "</div>"
      ],
      "text/plain": [
       "     qv_bar            dp        w_v\n",
       "0  0.000000      0.000000   0.000000\n",
       "1  0.007500  28091.142525  21.476409\n",
       "2  0.003750  20303.209751   7.761166\n",
       "3  0.001875  14674.388050   2.804738\n",
       "4  0.001000  10606.089741   1.081151"
      ]
     },
     "execution_count": 59,
     "metadata": {},
     "output_type": "execute_result"
    }
   ],
   "source": [
    "import pandas as pd\n",
    "\n",
    "g = 9.81; # [m/s2]\n",
    "qv_bar=np.zeros(len(qv_z))\n",
    "dp=np.zeros(len(qv_z))\n",
    "w_v=np.zeros(len(qv_z))\n",
    "\n",
    "for i in range(1,len(z)):\n",
    "    qv_bar[i]= (qv_z[i]+qv_z[i-1])/2;\n",
    "    dp[i]= p_z[i-1]-p_z[i];\n",
    "    w_v[i]= 1/9.81*qv_bar[i]*dp[i];\n",
    "\n",
    "df=pd.DataFrame({'qv_bar':qv_bar,'dp':dp,'w_v':w_v})\n",
    "df"
   ]
  },
  {
   "cell_type": "code",
   "execution_count": 60,
   "metadata": {},
   "outputs": [
    {
     "name": "stdout",
     "output_type": "stream",
     "text": [
      "W_v is: 33.123\n"
     ]
    }
   ],
   "source": [
    "W_v=np.sum(w_v)\n",
    "print(f\"W_v is: {W_v:.3f}\")"
   ]
  },
  {
   "cell_type": "markdown",
   "metadata": {},
   "source": [
    "<div style=\"text-align: center;\">\n",
    "  <img src=\"Figures/Ch2/Ch2F7.jpg\" alt=\"Figure 7\" style=\"width: auto; height: 250px;\">\n",
    "</div>"
   ]
  },
  {
   "cell_type": "markdown",
   "metadata": {},
   "source": [
    "## 2- Atmospheric Thermodynamics and Precipitation Processes\n",
    "\n",
    "When a force vector $\\vec{F}$ acts and moves a body of mass with a displacement vector , the work being done is equal to the following inner product:\n",
    "\n",
    "$$ dW = \\overrightarrow{F}\\cdotp \\overrightarrow{dx}=|\\overrightarrow{F}||\\overrightarrow{dx}|\\cos(\\theta),$$\n",
    "\n",
    "where $\\theta$ is the angle between the force and $|.|$ displacement vectors and  refers the tha magnitude of the vectors. As a result one can conclude that any **expansion or contraction of an air parcel** can be explained as work, \n",
    "\n",
    "$$ dW=F\\,dx=PA\\,dx=P\\,dV, $$\n",
    "\n",
    "where $p$ is pressure and $A$ is the parcel area. **In other words, when an air parcel expands, it works on the surrounding environment ($dW>0$) and when it contracts the surrounding environment works on the parcel ($dW<0$)**.\n",
    "\n",
    "<div style=\"text-align: center;\">\n",
    "  <img src=\"Figures/Ch2/Ch2F8.png\" alt=\"Figure 8\" style=\"width: 250px; height: auto;\">\n",
    "</div>\n",
    "\n",
    "<div style=\"text-align: center;\">\n",
    "  <img src=\"Figures/Ch2/Ch2F9.png\" alt=\"Figure 9\" style=\"width: 450px; height: auto;\">\n",
    "</div>\n",
    "\n",
    "Air parcels expand due to decreased surrounding pressure and thus work on their environment as they rise due to **orographic (a), frontal lifting (b), low-level convergence (c), buoyant rising of warm air (d), and turbulent mixing (e)** (from Curry and Webster, 1999).\n",
    "\n",
    "**Heat** is the transfer of thermal energy between the system and the environment. Empirically, it has been found that heat is:\n",
    "\n",
    "$$ dQ=mcdT(\\text{extensive}) \\Rightarrow dq=cdT(\\text{intensive})$$\n",
    "\n",
    "\n",
    "where $m$ is mass $[\\text{kg}]$ , $c$ is the specific heat capacity $[\\mathrm{J kg^{-1}K^{-1}}]$ and $dT$ is the change in temperature [K]. \n",
    "The specific heat of air is measured for two scenarios:\n",
    "\n",
    "1- **Constant pressure** $c_p$ with typical values of 1004 $[\\mathrm{J kg^{-1}K^{-1}}]$ for dry air.\n",
    "\n",
    "2- **Constant volume** $c_v$ with typical values of 717 $[\\mathrm{J kg^{-1}K^{-1}}]$ for dry air.\n",
    "\n",
    "Why is there a difference in values of specific heat?\n",
    "Another important observation about specific heat values is the following proven relationship:\n",
    "\n",
    "$$ R_d=c_p-c_v=1004-717=287 [\\mathrm{J kg^{-1}K^{-1}}] $$\n",
    "\n",
    "<div style=\"text-align: center;\">\n",
    "  <img src=\"Figures/Ch2/Ch2F10.png\" alt=\"Figure 10\" style=\"width: auto; height: 250px;\">\n",
    "</div>\n",
    "\n",
    "When the volume is constant (left) all added heat $dq$ increases the temperature. However, when the pressure is constant (right), the added heat not only increases the temperature but also expands the volume. As a result, when the pressure is constant, we need more heat to increase the temperature of the system and thus $c_p>c_v$ (credit, Wallace and Hobbs, 2006)."
   ]
  },
  {
   "cell_type": "markdown",
   "metadata": {},
   "source": [
    "### 2-2 Dry Adiabatic Expansion\n",
    "\n",
    "What does happen to an air parcel as it moves vertically?  We know that if air rises via a lifting mechanism such as orographic lifting, its temperature and pressure will decrease as internal energy is reduced because the work done on the environment by the parcel.  \n",
    "\n",
    "Let us assume that the time scale of these changes is short enough that **no heat is exchanged** with the environment  and **no water phase change** occurs during the expansion, which is known as the **dry adiabatic expansion**. \n",
    "\n",
    "Under **adibatic lapse** rate the pressure and temperature profiles are related to each other as follows, known as the **Poisson's equation**:\n",
    "\n",
    "$$ \\frac{T_{v2}}{T_{v1}}=\\left(\\frac{P_2}{P_1}\\right)^{\\frac{R_d}{c_p}}. $$\n",
    "\n",
    "The adiabatic assumption allows estimating the lapse rates as follows:\n",
    "\n",
    "$$ \\Gamma_{dry}=-\\frac{dT}{dz}=\\frac{g}{c_{pd}}=9.8 [\\mathrm{K\\;km^{-1}}] $$\n",
    "$$ \\Gamma_{moist}=-\\frac{dT}{dz}=\\frac{g}{c_{p}}=\\frac{g}{c_{pd}(1+0.87q_v)} [\\mathrm{K\\;km^{-1}}] $$\n",
    "\n",
    "In the above derivation, knowing that $c_p=q_vc_{pv}+(1-q_v)c_{pd}$ where $c_{pd}=1004$ and $c_{pv}=1864 [\\mathrm{J kg^{-1}K^{-1}}]$, we can conclude that $c_p=c_{pd}(1+0.87q_v)$. Observations show that, on average, the moist atmospheric lapse rate is around $6.5[\\mathrm{K\\;km^{-1}}]$ . \n"
   ]
  },
  {
   "cell_type": "markdown",
   "metadata": {},
   "source": [
    "**Derivation of the Poisson Equation:**\n",
    "\n",
    "The change in **internal energy** of a thermodynamic system $du$ , consists of the change in microscopic kinetic and potential energy. The kinetic energy from random molecular movements is called sensible energy, which we can be felt and measured through changes in temperature. The potential energy are associated with the forces that bind molecules together, and, in our case, it refers to the latent energy associated with the phase change of system material (e.g., water vapor in an air parcel). Based on the Joule's Law, the internal energy of an ideal gas is only dependent on its temperature\n",
    "\n",
    "$$ du=c_vdT $$\n",
    "\n",
    "The **first law of thermodynamics** states that the heat added to a system must be equal to the sum of changes in internal energy (microscopic effect) and the work done by the system or on the system (macroscopic effect):\n",
    "\n",
    "$$dQ=dU+dW\\,\\text{(extensive)} \\overset{\\times\\frac{1}{m}}{\\longrightarrow} dq = du+dw\\,\\text{(intensive)}. $$\n",
    "\n",
    "The sign convention for work is positive for work done on the environment by the system (air expansion $dW>0$) and negative for work done on the system by the environment (air contraction $dW,0$). The first law can be expanded as follows:\n",
    "\n",
    "$$ dq=c_vdT+pdv $$\n",
    "\n",
    "$$ dq=c_vdT+d(pv)-vdp $$\n",
    "\n",
    "Using the ideal gas law $pv=RT$  and $c_v+R=c_p$ , we have\n",
    "\n",
    "$$ dq=c_pdT-vdp $$\n",
    "\n",
    "where $dh=c_pdT$ is called Enthalp.\n",
    "\n",
    "In a dry adiabatic expansion of an air parcel, we assume that the process is fast and thus $dq=0$.\n",
    "\n",
    "$$ c_pdT=vdp $$\n",
    "\n",
    "Given the ideal gas law $pv=R_dT$, we have\n",
    "\n",
    "$$c_pdT_v=R_dT_v\\frac{dp}{p} \\quad \\Rightarrow \\quad \\frac{c_p}{R_d} \\frac{dT_v}{T_v}=\\frac{dp}{p} $$\n",
    "\n",
    "Therefore,\n",
    "\n",
    "$$ \\int_{T_1}^{T_2} \\frac{c_p}{R_d} \\frac{dT_v}{T_v} = \\int_{p_1}^{p_2}\\frac{dp}{p} $$\n",
    "\n",
    "which results in \n",
    "\n",
    "$$ \\frac{c_p}{R_d} \\ln\\left(\\frac{T_{v2}}{T_{v1}}\\right)=\\ln\\left(\\frac{p_2}{p_1}\\right) $$\n",
    "\n",
    "and thus\n",
    "\n",
    "$$\\frac{T_{v2}}{T_{v1}}=\\left(\\frac{p_2}{p_1}\\right)^{\\frac{R_d}{c_p}}.$$\n",
    "\n",
    "Finally, the adiabatic assumption allows estimating the lapse rates. Using the enthalpy form of the first law $c_pdT=vdP$ together with hydrostatic equilibrium $v=-\\frac{gdz}{dP}$ , one can obtain $c_pdT=-gdz$  and thus the adiabatic lapse rate is \n",
    "\n",
    "$$ \\Gamma_{dry}=-\\frac{dT}{dz}=\\frac{g}{c_{pd}}=9.8 \\mathrm{[K km^{-1}]} $$"
   ]
  },
  {
   "cell_type": "markdown",
   "metadata": {},
   "source": [
    "### 2-3 Clouds and Precipitation \n",
    "\n",
    "So far, we have discussed the water vapor and its interaction with the atmospheric state variables and have ignored the **condensation process**. Now we will discuss condensation of water vapor in terms of hydrologic flux of precipitation beginning with a few definitions:\t\n",
    "\n",
    "- **Atmospheric Stability:** The weather patterns that define climate begin at very local scales and are related to the atmosphere’s capacity for vertical motion. Weather events occur because air is constantly moving vertically and horizontally. Warm air is less dense than cooler air, and therefore will tend to rise. However, air that is of a lower density will not rise by itself. Vertical air motions are also driven by gravity, which pulls cooler, denser air toward Earth's surface. As the more dense air reaches Earth's surface, it spreads out and flows beneath the less dense air which, in turn, forces the less dense air to rise as explained more concretely in Chapter 1. It is customary to use the dry adiabatic lapse rate to roughly infer **static atmospheric stability** as follows:\n",
    "\n",
    "$$ \\Gamma < \\Gamma_d \\Rightarrow(\\text{statically stable}) $$\n",
    "$$ \\Gamma = \\Gamma_d \\Rightarrow(\\text{statically neutral}) $$\n",
    "$$ \\Gamma > \\Gamma_d \\Rightarrow(\\text{statically unstable}) $$\n",
    "\n",
    "<div style=\"text-align: center;\">\n",
    "  <img src=\"Figures/Ch2/Ch2F11.png\" alt=\"Figure 11\" style=\"width: auto; height: 250px;\">\n",
    "</div>\n",
    "\n",
    "<div style=\"text-align: center;\">\n",
    "  <img src=\"Figures/Ch2/Ch2F12.png\" alt=\"Figure 12\" style=\"width: auto; height: 250px;\">\n",
    "</div>\n",
    "\n",
    "- **Clouds** are a collection of billions of small water and/or ice particles suspended in the atmosphere above Earth’s surface. Clouds form when water vapor condenses.\n",
    "- **Aerosol particles** are suspended tiny solid particles with a size in the order of 0.1-10  (e.g., dust, sea-slat, soil particles, by products of combustion processes, etc). These small particles become the primary sites, often called **cloud condensation nuclei (CCN)** for condensation of water vapor and initial formation of raindrops. \n",
    "- **Hydrometeors** are body of liquid or solid water such as raindrops and snow flakes that are heavy enough to fall to the earth surface. "
   ]
  },
  {
   "cell_type": "markdown",
   "metadata": {},
   "source": [
    "#### 2-3-1 Cloud Formation\n",
    "As we discussed, **when a parcel of air rises adiabatically, the temperature decreases as internal energy is converted to work on the environment through expansion**. When temperature of a rising air parcel drops its **water holding capacity** reduces, which can be explained via the **Clausius-Clapeyron equation**. Therefore, the air parcel can no longer hold the amount of moisture it could hold at the earth surface with a warmer temperature. As a result, **condensation** happens, which leads to the formation of clouds and perhaps precipitation.\n",
    "\n",
    "Most tropical precipitation falls as rain where most of the surface and lower troposphere are above freezing. A typical raindrop has a radius of about 1 mm while typical cloud droplet radii are 10s of µm. \n",
    "\n",
    "How do cloud droplets become raindrops? \n",
    "\n",
    "Cloud droplets do not grow large enough by condensation around CCNs because the rate of condensational growth of droplets slows with time. In **warm clouds** that lie entirely below 0°C,  droplets grow and form precipitation largely through a process called the **collision-coalescence** process. Large droplets settle on small droplets and grow as more small droplets collide and adhere to them. This process becomes increasingly more efficient as cloud droplets grow in size. \n",
    "\n",
    "<div style=\"text-align: center;\">\n",
    "  <img src=\"Figures/Ch2/Ch2F13.gif\" alt=\"Figure 13\" style=\"width: 500px; height: auto;\">\n",
    "</div>\n",
    "\n",
    "<div style=\"text-align: center;\">\n",
    "  <img src=\"Figures/Ch2/Ch2F14.gif\" alt=\"Figure 14\" style=\"width: 500px; heigh: auto;\">\n",
    "</div>\n",
    "\n",
    "\n",
    "The process is more complicated in **cold clouds** where the temperature can be below the freezing point. Though bodies of liquid water freeze when their temperatures reach slightly below 0°C, water droplets in clouds behave quite differently. Observations in clouds have shown that at -10°C it is possible to have only 1 ice crystal per 1 million liquid water droplets. At -20°C, the ratio of ice to liquid can be less than 50%, yet some observational studies note a predominance of ice at these temperatures. In laboratory experiments, cloud temperatures can reach -40°C before all water droplets are found as ice crystals. Water droplets that are found in temperatures below freezing are referred to as **supercooled**. \n",
    "\n",
    "<div style=\"text-align: center;\">\n",
    "  <img src=\"Figures/Ch2/Ch2F15.png\" alt=\"Figure 15\" style=\"width: 500px; heigh: auto;\">\n",
    "</div>\n",
    "\n",
    "\n",
    "Regions of a cloud transformed to ice crystals, where the cloud is saturated with respect to ice, are said to be **glaciated**. In mixed-phase clouds, glaciation, **the transition in the cloud of supercooled liquid to ice**, generally takes place rapidly. Glaciation tends to begin in the highest (coldest) part of the cloud, where ice is nucleated, and then work downward as ice crystals become larger and heavier and fall into the lower levels of the cloud. This increases the number of ice crystal surfaces available and further depletes the amount of water vapor in the cloud. Glaciation can be initiated by conditions within the cloud or can result from clouds above the supercooled cloud **seeding ice** from above. This seeder/feeder effect is most prevalent with mid- or upper-level cirrus, cirrostratus, or alto-type clouds seeding lower-level stratus and stratocumulus clouds.\n",
    "\n",
    "<div style=\"text-align: center;\">\n",
    "  <img src=\"Figures/Ch2/Ch2F16.gif\" alt=\"Figure 16\" style=\"width: 500px; heigh: auto;\">\n",
    "</div>\n",
    "\n",
    "The **Bergeron-Findeisen process describes how ice crystals grow at the expense of supercooled water droplets in a water-saturated environment**. This process is of particular importance in mid- to high latitudes where clouds routinely extend upward to subfreezing temperatures. In order for ice crystals to form in clouds, the water molecules making up the vaporous cloud droplets need a substrate on which to begin the formation of an ice crystal lattice. The initiation of this process can take place by **homogeneous** or **heterogeneous** nucleation.\n",
    "\n",
    "- **Homogeneous** nucleation takes place at very cold temperatures in the absence of any **ice-forming nuclei (IN)**. Nucleation takes place as water molecules within a droplet are cooled sufficiently to begin forming minute ice structures, called ice embryos. Surrounding molecules attach themselves to these ice embryos and add to the growing crystal lattice. This structure is prone to disruption due to thermal agitation, an event that is more likely to occur in smaller drops. Thus, the smaller the size of the droplet, the lower the freezing temperature needed to form ice crystals. Laboratory studies have shown that 5-µm diameter droplets of pure water don't freeze until their temperature is brought down to -40°C. Larger droplets of 25 µm in diameter freeze at -36°C, a slightly warmer temperature due to the larger size of the droplet. This implies that any cloud at temperatures below -40°C will consist purely of ice crystals. From a forecasting perspective, due to the glaciating process, supercooled liquid droplets are relatively rare below -20°C.\n",
    "\n",
    "- **Heterogeneous** nucleation is the predominant process of ice crystal initiation in the atmosphere. It takes place due to the presence of **ice-forming nuclei (IN)** in saturated, sub-freezing environments. There are 3 types of **heterogeneous nucleation**: (i) **Deposition**: Water vapor condenses as ice directly onto IN surfaces without passing through the liquid phase. (ii) *8Freezing**: IN contained within a droplet initiate freezing within that droplet. (iii) **Contact**: IN initiate ice crystal formation upon contact with a droplet. This occurs through the collision of supercooled droplets with IN.\n",
    "\n",
    "<div style=\"text-align: center;\">\n",
    "  <img src=\"Figures/Ch2/Ch2F17.gif\" alt=\"Figure 17\" style=\"width: 400px; heigh: auto;\">\n",
    "  <img src=\"Figures/Ch2/Ch2F18.gif\" alt=\"Figure 18\" style=\"width: 400px; heigh: auto;\">\n",
    "</div>\n",
    "\n",
    "Once an ice crystal has formed, it can grow through several processes:\n",
    "\n",
    "- **Diffusion deposition** occurs due to differences in the saturation vapor pressure between ice and liquid water. At a given temperature, the vapor pressure over a water surface is greater than that over an ice surface. If water droplets and ice crystals exist in the same environment (called mixed phase conditions), a vapor pressure gradient develops between the droplets and crystals. Due to this gradient, water vapor moves from the higher pressure surrounding the droplets to the lower pressure surrounding the crystals. Thus, the ice crystals grow at the droplets' expense. Eventually the pool of liquid water diminishes and the cloud becomes **glaciated**.\n",
    "\n",
    "<div style=\"text-align: center;\">\n",
    "  <img src=\"Figures/Ch2/Ch2F19.gif\" alt=\"Figure 19\" style=\"width: 500px; heigh: auto;\">\n",
    "</div>\n",
    "\n",
    "- **Accretion** occures when ice crystals grow via collision with supercooled droplets. The supercooled droplet freezes on contact and sticks to the original ice crystal to form **rime ice**. This process is optimal in saturated layers with temperatures of 0 to -10°C (Staudenmaier, 1999). Excessive riming eventually results in the formation of **graupel** or **snow pellets.**\n",
    "\n",
    "<div style=\"text-align: center;\">\n",
    "  <img src=\"Figures/Ch2/Ch2F20.gif\" alt=\"Figure 20\" style=\"width: 500px; heigh: auto;\">\n",
    "</div>\n",
    "\n",
    "- **Aggregation** is a process through which ice crystals collide, stick to each other and grow. As the crystal moves through warmer regions in the cloud, there will be more liquid molecules on the outside of the crystal, and larger aggregations can build to form large snowflakes. Stickiness is maximized at or near 0°C."
   ]
  },
  {
   "cell_type": "markdown",
   "metadata": {},
   "source": [
    "#### 2-3-2 Precipitation Types \n",
    "\n",
    "Precipitation can be in liquid or frozen forms.\n",
    "\n",
    "**Liquid Precipitation:**\n",
    "\n",
    "- **Drizzle:** is a liquid precipitation with the average drop size of less than $0.5[\\text{mm}]$ generated by stratiform clouds with surface rainfall rate of  $<1 [\\mathrm{mm.hr^{-1}}]$\n",
    "- **Rain**  is a liquid precipitation with and average dropsize $>0.5[\\text{mm}]$  and a rate of more than 1 $\\mathrm{[mm.hr^{-1}]}$.\n",
    "\n",
    "**Frozen Precipitation:**\n",
    "\n",
    "- **Freezing drizzle or rain**: is the rainfall that falls through a subzero temperature layer of atmosphere near the earth surface and becomes supercooled. The supercooled raindrops become frozen immediately upon the first impact with the ground surface. The resulting ice is called **glaze**, which can grow to a thickness of several centimeters. \n",
    "- **Sleet**: is a mixture of rain and partly melted snow. \n",
    "- **Snow**: is small ice particle with average specific gravity of $\\frac{\\rho_{snow}}{\\rho_{water}}\\cong0.1$\n",
    "- **Ice Pellets**: are small but translucent balls of ice with $d<5[\\mathrm{mm}]$, which are smaller than hail.  \n",
    "- **Hail**: is solid precipitation $d=5-125[\\mathrm{mm}]$  with specific gravity of $\\frac{\\rho_{snow}}{\\rho_{water}}\\cong0.8$ \n",
    "- **Graupel**: is a soft hail or pellet with $d=2-5[\\mathrm{mm}]$ and specific gravity 0.2 to 0.3. The graupels are opaque. "
   ]
  },
  {
   "cell_type": "markdown",
   "metadata": {},
   "source": [
    "#### 2-3-3 Lifting Mechanisms Leading to Precipitation\n",
    "\n",
    "a) **Orographic lifting**: Orographic lifting occurs when flow of moist air is lifted because of the presence of a **topographic feature**. When the moist air parcel ascends over mountains, condensation occurs, which often gives rise to a substantial precipitation on the **windward side** of the mountain range. On the **leeward side** of the mountain, rainfall is usually absent as the moisture content significantly drops. This process often creates a very dry area on the leeward of the mountain called the **rain shadow**.\n",
    "\n",
    "<div style=\"text-align: center;\">\n",
    "  <img src=\"Figures/Ch2/Ch2F21.jpg\" alt=\"Figure 21\" style=\"width: auto; heigh: 350px;\">\n",
    "  <img src=\"Figures/Ch2/Ch2F22.jpg\" alt=\"Figure 22\" style=\"width: auto; heigh: 350px;\">\n",
    "</div>\n",
    "\n",
    "b) **Frontal lifting:**\n",
    "\n",
    "- **Warm Fronts:**  Warm air mass moves faster than the cold air mass. Typically the slope between the cold and warm air masses is mild (1:100 to 1:400) and lifting is gentle. This lifting mechanism produces mild precipitation over an area that may cover 300-500 km ahead of the frontal surface. \n",
    "- **Cold Fronts:** Cold air mass moves faster than the warm air mass. Typically the slope between the cold and warm air masses is sharper than the warm front (1:25 to 1:100) and lifting is stronger. This lifting mechanism often produces heavy precipitation over an area that may cover 80-100 km ahead of the frontal surface. \n",
    "- **Stationary Fronts:** is formed when the relative velocity is almost equal for the cold and warm air masses and neither of them can take over the other one.\n",
    "\n",
    "<div style=\"text-align: center;\">\n",
    "  <img src=\"Figures/Ch2/Ch2F23.jpg\" alt=\"Figure 23\" style=\"width: 700px; heigh: auto;\">\n",
    "</div>\n",
    "\n",
    "<div style=\"text-align: center;\">\n",
    "  <img src=\"Figures/Ch2/Ch2F24.jpg\" alt=\"Figure 24\" style=\"width: 350px; heigh: auto;\">\n",
    "</div>\n",
    "\n",
    "c) **Low-level convergence:**\n",
    "- The low-level convergence occurs when two large-scale air masses at synoptic-scale (>1000 km) of similar temperature merge and are forced upward as shown in the schematic below. \n",
    "\n",
    "<div style=\"text-align: center;\">\n",
    "  <img src=\"Figures/Ch2/Ch2F25.jpg\" alt=\"Figure 25\" style=\"width: 500px; heigh: auto;\">\n",
    "</div>\n",
    "\n",
    "<div style=\"text-align: center;\">\n",
    "  <img src=\"Figures/Ch2/Ch2F26.jpg\" alt=\"Figure 26\" style=\"width: 500px; heigh: auto;\">\n",
    "</div>\n",
    "\n",
    "d) **Buoyant rising:**\n",
    "\n",
    "- During a warm summer day, the air near the surface is heated by a warm earth surface, which is typically accompanied by an increased evaporation from the surface. This causes the air parcels near the surface to be less dense than the cooler air above, due to increased temperature and water vapor, causing the air to buoyantly rise.\n",
    "\n",
    "<div style=\"text-align: center;\">\n",
    "  <img src=\"Figures/Ch2/Ch2F27.png\" alt=\"Figure 27\" style=\"width: 500px; heigh: auto;\">\n",
    "</div>\n",
    "\n",
    "e) **Mechanical lifting:**\n",
    "\n",
    "- Due to local turbulent mixing that picks up and takes the surface moisture to higher atmospheric elevations. As explained, this process accelerates the condensation and often produces short and scattered summertime precipitation.\n",
    "\n",
    "<div style=\"text-align: center;\">\n",
    "  <img src=\"Figures/Ch2/Ch2F28.jpg\" alt=\"Figure 28\" style=\"width: 500px; heigh: auto;\">\n",
    "</div>"
   ]
  },
  {
   "cell_type": "markdown",
   "metadata": {},
   "source": [
    "### 2-4 Measurment of Precipitation\n",
    "\n",
    "There are three ways to measure precipitation: 1) rain gauges, 2) ground-based weather radars, and 3) satellites. \n",
    "\n",
    "#### 2-4-1 Rain Gauges\n",
    "\n",
    "Rain gauges  provide ground-based point measurements.  The rain gauges are often classified as follows\n",
    "\n",
    "- **Non-recording gauges:** Non-recording Symon's rain gauge is the most common type of rain gauge used by meteorological departments round the world. It consists of a cylindrical vessel127 [mm] in diameter with a base enlarged to 210 [mm] diameter. At its top section there is funnel shank inserted in the neck of a receiving bottle. The receiving bottle has capacity of 100mm and during heavy rainfall, the amount of rain may exceeds the capacity. Therefore, requent reading might be necessary during heavy storms. Water contained in this receiving bottle is measured by a graduated measuring glass with an accuracy up to 0.1 [mm].\n",
    "\n",
    "<div style=\"text-align: center;\">\n",
    "  <img src=\"Figures/Ch2/Ch2F29.png\" alt=\"Figure 29\" style=\"width: 350px; heigh: auto;\">\n",
    "</div>\n",
    "\n",
    "- **Recording gauges:** Automatic recording devices that provide high temporal resolution measurements of precipitation. \n",
    "\n",
    "\n",
    "**Weighting gauges**: Weighing rain gauge is one of the most commonly used self-recording rain gauge. It consists of a receiver bucket supported by a mechanism to record the weight of water. The movement of bucket due to its increasing weight is transmitted to a pen, which gives a plot of accumulated (increased) rainfall in time.\n",
    "\n",
    "<div style=\"text-align: center;\">\n",
    "  <img src=\"Figures/Ch2/Ch2F30.png\" alt=\"Figure 30\" style=\"width: 350px; heigh: auto;\">\n",
    "</div>\n",
    "\n",
    "**Float gauges**: The working of this type of rain gauge is similar to weighing bucket rain gauge. A funnel receives the water which is collected in a rectangular container. A float is provided at the bottom of container, and this float raises as the water level rises in the container. Its movement being recorded by a pen to obtain an estimate of the collected rainfall mass.  When water rises, this float reaches to the top floating in water, then siphon comes into operation and releases the water outwards through the connecting pipe, thus all water in box is drained out.\n",
    "\n",
    "<div style=\"text-align: center;\">\n",
    "  <img src=\"Figures/Ch2/Ch2F31.png\" alt=\"Figure 31\" style=\"width: 350px; heigh: auto;\">\n",
    "</div>\n",
    "\n",
    "**Tipping bucket gauges**: Tipping bucket rain gauges are adopted by the US weather bureau. It has 30cm diameter sharp edged receiver and at the end of the receiver there is a funnel. Pair of buckets are pivoted under this funnel in such a manner that when one bucket receives 0.25 mm of rainfall, it tips discharging its rainfall into the container, bringing the other bucket under the funnel and a pen records each tipping.\n",
    "\n",
    "<div style=\"text-align: center;\">\n",
    "  <img src=\"Figures/Ch2/Ch2F32.png\" alt=\"Figure 32\" style=\"width: 350px; heigh: auto;\">\n",
    "</div>\n",
    "\n",
    "**Optical rain gauges**: create a radiation field and record the altered intensity of the field as rain or snow passes through it.  There are algorithms that calculate a precipitation rate based on the recorded irregularities in the radiation field.  These sensors are a superior tool but are primarily used in research currently.\n",
    "\n",
    "<div style=\"text-align: center;\">\n",
    "  <img src=\"Figures/Ch2/Ch2F33.png\" alt=\"Figure 33\" style=\"width: 350px; heigh: auto;\">\n",
    "</div>"
   ]
  },
  {
   "cell_type": "markdown",
   "metadata": {},
   "source": [
    "#### 2-4-2 Spatial Analysis of Rain Gauges:\n",
    "\n",
    "Given that rain gauges are point measurements, there are different methods for interpolating these measurements to a spatial field that would be representative of precipitation over a watershed. These methods will be covered during the recitation of this course, but a brief overview is as follows:\n",
    "\n",
    "Construction of Thiessen polygons. The dashed lines connect nearby gauges, the solid lines are perpendicular bisectors of those lines, and the solid curved lines show the boundary of the watershed. Points in each subregion are the nearest neighbors to the gauge close to the center of each polygon.\n",
    "\n",
    "**Arithmetic Mean Method:** This method simply takes the mean of all the gauges within the spatial area of interest, meaning that all gauges have the same weight. The average precipitation is calculated for N gauges as follows:\n",
    "\n",
    "$$ \\overline{R}=\\frac{\\Sigma_{i=1}^N\\,R_{i}}{N} $$\n",
    "\n",
    "where $R_i$ is the precipitation amount or rate at each gauge and the denominator is the number of gauges.\n",
    "\n",
    "**Thiessen Polygon Method:** This method geometrically calculates the area that is nearest to each rain gauge and assumes that the precipitation is constant over that area.  The areal weighted average is then calculated as follows:\n",
    "\n",
    "$$ \t\t\\overline{R}=\\frac{\\Sigma_{i=1}^N\\,A_{i}R_{i}}{\\Sigma_{i=1}^N\\,A_{i}} $$\n",
    "\n",
    "\n",
    "<div style=\"text-align: center;\">\n",
    "  <img src=\"Figures/Ch2/Ch2F34.png\" alt=\"Figure 34\" style=\"width: 650px; heigh: auto;\">\n",
    "</div>"
   ]
  },
  {
   "cell_type": "markdown",
   "metadata": {},
   "source": [
    "#### 2-4-3 Temporal rain gauge analysis\n",
    "We are often interested to understand and quantify \\blue{time series} of precipitation.  A **hyetograph** is a plot of **rainfall depth** [mm] or **intensity** [mm/hr] as a function of time, typically shown as a histogram.  Given the rainfall measurement techniques, we assume the intensity is constant over a measurement period.\n",
    "\n",
    "Additionally, we can aggregate temporal data to determine monthly and yearly precipitation totals that can be used to see large-scale climatic changes."
   ]
  },
  {
   "cell_type": "code",
   "execution_count": 75,
   "metadata": {},
   "outputs": [
    {
     "data": {
      "image/png": "[encoded data removed]",
      "text/plain": [
       "<Figure size 720x360 with 2 Axes>"
      ]
     },
     "metadata": {
      "needs_background": "light"
     },
     "output_type": "display_data"
    }
   ],
   "source": [
    "import matplotlib.pyplot as plt\n",
    "import numpy as np\n",
    "\n",
    "plt.rcParams[\"font.size\"] = 20 \n",
    "plt.rcParams[\"font.family\"] = \"Times New Roman\"\n",
    "\n",
    "# Example data\n",
    "dt = 10  # minutes\n",
    "P = np.array([0.8, 1.8, 3.5, 1.6, 0.6, 0.3])  # rainfall intensity (in/hr)\n",
    "# Calculate time steps\n",
    "T = np.arange(0, len(P) * dt + dt, dt)  # Time at the edges (minutes)\n",
    "# Cumulative rainfall\n",
    "P_c = np.cumsum(P) * dt / 60  # Cumulative rainfall depth (in)\n",
    "# Create subplots\n",
    "fig, (ax1, ax2) = plt.subplots(1, 2, figsize=(10, 5))  # Adjust figsize as needed\n",
    "# Rainfall Hyetograph\n",
    "ax1.bar(T[:-1], P, width=dt/60, label='Rainfall Intensity')  # Adjusted time for bar centers\n",
    "ax1.set_xticks(np.arange(0, (len(P) + 1) * dt, dt / 2))  # Ticks every half time step\n",
    "ax1.set_xlim(0, max(T))\n",
    "ax1.set_xlabel('Time (minutes)')\n",
    "ax1.set_ylabel('Rainfall Intensity (in/hr)')\n",
    "ax1.set_title('Rainfall Hyetograph')\n",
    "ax1.legend()\n",
    "# Cumulative Rainfall Depth\n",
    "ax2.plot(T, np.concatenate(([0], P_c)), '-or', label='Cumulative Rainfall Depth', linewidth=2)\n",
    "ax2.set_xlabel('Time (minutes)')\n",
    "ax2.set_ylabel('Rainfall Depth (in)')\n",
    "ax2.grid(True)\n",
    "\n",
    "# Adjust layout\n",
    "plt.tight_layout()\n",
    "plt.show()"
   ]
  },
  {
   "cell_type": "markdown",
   "metadata": {},
   "source": [
    "#### 2-4-4 Ground-based Radar Measurments\n",
    "\n",
    "- **Drop size distribution** \n",
    "\n",
    "The random process of cloud and precipitation formation leads to a wide range of raindrop sizes. Obviously, deterministic explanation of motions of each drop is extremely complex. As a result, probability distributions are often employed to explain the **drop size distribution (DSD)** and precipitation microphysical properties. \n",
    "\n",
    "Marshall and Palmer (1947) suggested that the rainfall drop size distribution can be explained by the family of exponential probability density functions (i.e. $f_X(x)=\\lambda exp(-\\lambda x)$ for $x \\geq 0 $ and $\\lambda >0$). Basically they counted the number of raindrops of size $[D,D+dD]$ in a unit volume $N_d[\\#\\mathrm{m^{-3}mm^{-1}}]$\n",
    "\n",
    "<div style=\"text-align: center;\">\n",
    "  <img src=\"Figures/Ch2/Ch2F35.png\" alt=\"Figure 35\" style=\"width: auto; heigh: 300px;\">\n",
    "  <img src=\"Figures/Ch2/Ch2F36.png\" alt=\"Figure 36\" style=\"width: auto; heigh: 300px;\">\n",
    "</div>\n",
    "\n",
    "**Figure**: Schematic of drop size distribution in a unit volume (left). Distribution of number versus diameter for raindrops recorded at Ottawa, summer 1946. Curves A is for rate of rainfall 1.0 [$\\mathrm{mm.hr^{-1}}$] , curves B, C, D, for 2.8, 6.3, 23.0 [$\\mathrm{mm.hr^{-1}}$], $N_DdD$  is the number of drops per cubic meter, of diameter between $D$ and $D+dD$ mm (from Marshall and Palmer, 1948).\n",
    "\n",
    "\n",
    "Specifically, Marshall and Palmer suggested the following dropsize distribution function $N_D=N_0e^{-\\Lambda D}$, where $N_D [\\#\\mathrm{m^{-3}mm^{-1}}]$  is the number of raindrops with unit diameter in a unit volume of air, $N_0=0.08\\mathrm{cm^{-4}}$ is an experimental fitting parameter, $\\Lambda = 1/\\overline{D}$ and $\\overline{D}$ denotes the mean of the drop sizes.\n",
    "\n",
    "**Note:** When a random variable $x$ has a probability distribution of $f_x(x)$, the mean of $x$ is $\\int_{-\\infty}^{+\\infty}g(x)f_X(x) dx$ and mean of $g(x)$ is $\\int_{-\\infty}^{+\\infty}g(x)f_X(x) dx$.\n",
    "\n",
    "**Total number of raindrops per unit volume** [$\\#\\mathrm{m^{-3}}$]\n",
    "\n",
    "$$ \\int_{0}^{\\infty}N_{D}\\,dD=\\int_{0}^{\\infty}N_{0}e^{-\\Lambda D}\\,dD=\\frac{N_{0}}{\\Lambda} $$\n",
    "\n",
    "**Total liquid water content (LWC)** [$\\mathrm{kgm^{-3}}$]\n",
    "\n",
    "$$ \\int_{0}^{\\infty}\\rho_{w}\\frac{\\pi D^{3}}{6}N_{D}\\,dD=\\int_{0}^{\\infty}\\rho_{w}\\frac{\\pi D^{3}}{6}N_{0}e^{-\\Lambda D}\\,dD=\\frac{\\rho_{w}\\pi N_{0}}{\\Lambda^{4}} $$\n",
    "\n",
    "**Cloud-base precipitation rate** [$\\mathrm{ms^{-1}}$]\n",
    "\n",
    "$$ \\int_{0}^{\\infty}\\frac{\\pi D^{3}}{6}\\,V_{t}\\,N_{D}\\,dD=\\int_{0}^{\\infty}\\frac{\\pi D^{3}}{6}\\,\\alpha D\\,N_{0}e^{-\\Lambda D}\\,dD=\\frac{4\\pi N_{0}\\alpha}{\\Lambda^{5}}, $$\n",
    "\n",
    "where $V_t=aD$ is the average falling velocity of raindrops at the base of the cloud. Note that in computation of the cloud-base precipitation rate, we have simply assumed that the rainfall terminal velocity $V_t$ is a linear function of the drop diameter $V_t=aD$, where $a[s^{-1}]$ is a proportionality constant. \n",
    "\n",
    "\n",
    "To understand how the above integrals are computed, we need to recall that $\\int_{0}^{\\infty}x^{n}\\,e^{-ax}\\,dx=\\frac{n!}{a^{n+1}}$ with $n=1,2,3,\\ldots$ and $a>0$."
   ]
  },
  {
   "cell_type": "markdown",
   "metadata": {},
   "source": [
    "**Example Problem 2.4**: Suppose a cloud has a Marshall-Palmer drop size distribution with an average drop diameter of 0.7 mm. a) What is the total number of drops in the cloud (per cubic meter of air)? and b) What is the liquid water content (in grams per cubic meter of air)?.  \n",
    "\n",
    "Solution:"
   ]
  },
  {
   "cell_type": "code",
   "execution_count": 81,
   "metadata": {},
   "outputs": [
    {
     "name": "stdout",
     "output_type": "stream",
     "text": [
      "lwc:6.034\n"
     ]
    }
   ],
   "source": [
    "import math\n",
    "# Based on the average drop diameter, the Marshall-Palmer DSD parameter is equal to:\n",
    "D_bar = 0.7*10**-3; #[m]\n",
    "lamb = 1/D_bar;    #[m^-1]\n",
    "N_0 = 0.08*100**4;  #[m^-4]\n",
    "rho_w = 1000;      #[kg/m3]\n",
    "# Total number of dropsize\n",
    "T_number_drops = N_0/lamb;  #[#/m3]\n",
    "# Total liquid water content \n",
    "lwc = (rho_w*math.pi*N_0/lamb**4)*1000  #[g/m3]\n",
    "print(f\"lwc:{lwc:.3f}\")"
   ]
  },
  {
   "cell_type": "markdown",
   "metadata": {},
   "source": [
    "- **Weather Radars**\n",
    "\n",
    "During the World War II, military radars noticed background clutters and noise due to weather phenomena such as precipitation. This observation became the main motivation for developing weather radar since early 50s. Ground-based precipitation radars have become operational across the United State since late 80's. The Next Generation Weather Radar (NEXRAD) is a network of 160 high-resolution S-band (2-4 GHz) Doppler weather radars operated by the National Weather Service (NWS). \n",
    "\n",
    "<div style=\"text-align: center;\">\n",
    "  <img src=\"Figures/Ch2/Ch2F37.png\" alt=\"Figure 37\" style=\"width: 800px; heigh: auto;\">\n",
    "</div>\n",
    "\n",
    "Figure: A NEXRAD radar (left), its reflectivity field in dBZ (middle) and the network of radar stations across the United States.\\\n",
    "\n",
    "A weather radar is equipped with a **transmitter** that generates fluxes of electromagnetic energy in **microwave bands** and a **receiver** that captures the backscattered waves by the raindrops. The power and pattern of the returned echoes captured by the receiver determine the type and intensity of precipitation. Typically due to the atmospheric attenuation, the amount of received energy flux is much smaller $~10^{-9}$ than the transmitted energy flux $~10^{+6} \\text{[watt]}$.\n",
    "\n",
    "The returned power to the receiver is often expressed as reflectivity ($Z$). It turns out that $Z$ is proportional to the sixth power of the diameter of the raindrops as\n",
    "\n",
    "$$ Z_i \\propto D_i^6 \\longrightarrow Z=\\int_{0}^{\\infty}D^{6}N_{D}\\,dD $$\n",
    "\n",
    "where $N_D [\\mathrm{\\#m^{-3}mm^{-1}}]$, $N_DdD [\\mathrm{\\#m^{-3}}]$  , and Z [$\\mathrm{mm^{6}m^{-3}}$]. Reflectivity has a a wide dynamic range from  for drizzle to  for heavy rainfalls. Due to this wide dynamic range, reflectivity is often expressed in decibels of reflectivity as follows:\n",
    "\n",
    "$$ \\text{dBZ}=10\\log_{10}\\frac{Z}{1 \\,\\,\\, \\text{mm}^6 \\text{m}^{-3}} $$\n",
    "\n",
    "Theoretical and experimental evidence suggests that \n",
    "\n",
    "$$ Z=aR^b,$$\n",
    "\n",
    "where $Z[\\mathrm{mm^{6}m^{-3}}]$ and $R[\\mathrm{mm hr^{-1}}]$ with typical values $200\\leq a \\leq 600$ and $1\\leq b \\leq 2$ .\n",
    "\n",
    "The $a$ and $b$ are often obtained empirically through experimentation; even though, some theoretical derivations are also possible. The default values in NEXRAD WSR-88D are:\n",
    "\n",
    "- $Z=200\\,R^{1.6}$ stratiform storms (updraft $<1 \\frac{m}{s}$, lower troposphere is stably stratified)\n",
    "- $Z=250\\,R^{1.2}$ tropical convective storms  (updraft $>1 \\frac{m}{s}$, lower troposphere is unstable)\n",
    "- $Z=300\\,R^{1.4}$ a compromise between stratiform and convective storms \n",
    "\n",
    "[NEXRAD WSR-88D](https://www.youtube.com/watch?v=Yrq2TVdM8HI) scans the entire vertical structure of atmosphere in 5 to 6 minutes at spatial resolution 1-4 km.\n",
    "\n",
    "<div style=\"text-align: center;\">\n",
    "  <img src=\"Figures/Ch2/Ch2F38.jpg\" alt=\"Figure 38\" style=\"width: 500px; heigh: auto;\">\n",
    "</div>\n",
    "\n",
    "The NEXRAD data can be downloaded, processed and visulaized through the [NOAA's Weather and Climate Toolkit](https://www.ncdc.noaa.gov/wct/index.php)."
   ]
  },
  {
   "cell_type": "markdown",
   "metadata": {},
   "source": [
    "**Example Problem 2.5: For a dBZ range from 5 to 50 compare the rainfall values if a stratiform verus convective assumption is made for the undelying precipitation process.**"
   ]
  },
  {
   "cell_type": "code",
   "execution_count": 8,
   "metadata": {},
   "outputs": [
    {
     "data": {
      "image/png": "[encoded data removed]",
      "text/plain": [
       "<Figure size 1080x720 with 1 Axes>"
      ]
     },
     "metadata": {
      "needs_background": "light"
     },
     "output_type": "display_data"
    }
   ],
   "source": [
    "import numpy as np\n",
    "import matplotlib.pyplot as plt\n",
    "\n",
    "# Data\n",
    "dbZ = np.arange(2, 51, 1)\n",
    "Z = 10 ** (dbZ / 10)\n",
    "a_s = 200  # stratiform value for a in Z = aR^b\n",
    "a_c = 250  # convective value for a in Z = aR^b\n",
    "b_s = 1.6  # stratiform value for b in Z = aR^b\n",
    "b_c = 1.2  # convective value for b in Z = aR^b\n",
    "\n",
    "# Calculate rainfall rates\n",
    "R_s = (Z / a_s) ** (1 / b_s)  # stratiform estimate of rainfall\n",
    "R_c = (Z / a_c) ** (1 / b_c)  # convective estimate of rainfall\n",
    "\n",
    "# Plot all components\n",
    "plt.figure(figsize=(15, 10))\n",
    "\n",
    "plt.rcParams[\"font.size\"] = 20 \n",
    "plt.rcParams[\"font.family\"] = \"Times New Roman\"\n",
    "\n",
    "plt.plot(dbZ, R_c, linewidth=2, label='convective')\n",
    "plt.plot(dbZ, R_s, linewidth=2, label='stratiform')\n",
    "\n",
    "plt.legend(frameon=False, fontsize=20)\n",
    "plt.axis('square')\n",
    "plt.grid(True)\n",
    "\n",
    "plt.xlabel('Reflectivity [dBZ]', fontweight='bold')\n",
    "plt.ylabel('Rainfall [mm hr^{-1}]', fontweight='bold')\n",
    "\n",
    "plt.show()"
   ]
  },
  {
   "cell_type": "markdown",
   "metadata": {},
   "source": [
    "#### 2-4-5 Satellite Measurments\n",
    "\n",
    "The Global Precipitation Measurement (GPM) mission is an international network of satellites that provide next-generation global observations of rain and snow. Building upon the success of the [Tropical Rainfall Measuring Mission](https://gpm.nasa.gov/missions/trmm) (TRMM), the GPM concept centers on the deployment of a[“Core Observatory satellite”](https://gpm.nasa.gov/missions/GPM/core-observatory) carrying an advanced radar / radiometer system to measure precipitation from space and serve as a reference standard to unify precipitation measurements from a [constellation of research and operational satellites](https://gpm.nasa.gov/missions/GPM/constellation). Through improved measurements of precipitation globally, the GPM mission is helping to advance our understanding of Earth's water and energy cycles, improve forecasting of extreme events that cause natural hazards and disasters, and extend current capabilities in using accurate and timely information of precipitation to directly benefit society. GPM, initiated by NASA and the [Japan Aerospace Exploration Agency](https://global.jaxa.jp/) (JAXA) as a global successor to TRMM, comprises a consortium of international space agencies, including the [Centre National d’Études Spatiales](https://cnes.fr/fr/) (CNES), the [Indian Space Research Organization](https://www.isro.gov.in/) (ISRO), the [National Oceanic and Atmospheric Administration](https://www.noaa.gov/) (NOAA), the [European Organization for the Exploitation of Meteorological Satellites](https://www.eumetsat.int/) (EUMETSAT), and others.\n",
    "\n",
    "\n",
    "<div style=\"text-align: center;\">\n",
    "  <img src=\"Figures/Ch2/Ch2F39.png\" alt=\"Figure 39\" style=\"width: 600px; heigh: auto;\">\n",
    "</div>\n",
    "\n",
    "<div style=\"text-align: center;\">\n",
    "  <img src=\"Figures/Ch2/Ch2F40.png\" alt=\"Figure 40\" style=\"width: 600px; heigh: auto;\">\n",
    "</div>\n",
    "\n",
    "<div style=\"text-align: center;\">\n",
    "  <img src=\"Figures/Ch2/Ch2F41.png\" alt=\"Figure 41\" style=\"width: 600px; heigh: auto;\">\n",
    "</div>\n",
    "\n",
    "<div style=\"text-align: center;\">\n",
    "  <img src=\"Figures/Ch2/Ch2F42.png\" alt=\"Figure 42\" style=\"width: 600px; heigh: auto;\">\n",
    "</div>"
   ]
  }
 ],
 "metadata": {
  "kernelspec": {
   "display_name": "base",
   "language": "python",
   "name": "base"
  },
  "language_info": {
   "codemirror_mode": {
    "name": "ipython",
    "version": 3
   },
   "file_extension": ".py",
   "mimetype": "text/x-python",
   "name": "python",
   "nbconvert_exporter": "python",
   "pygments_lexer": "ipython3",
   "version": "3.8.8"
  }
 },
 "nbformat": 4,
 "nbformat_minor": 2
}
