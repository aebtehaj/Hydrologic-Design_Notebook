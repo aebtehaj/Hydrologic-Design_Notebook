{
 "cells": [
  {
   "cell_type": "markdown",
   "metadata": {},
   "source": [
    "[![Open In Colab](https://colab.research.google.com/assets/colab-badge.svg)](https://colab.research.google.com/github/aebtehaj/Hydrologic-Design_Notebook/blob/main/Chapter3.ipynb)"
   ]
  },
  {
   "cell_type": "markdown",
   "metadata": {},
   "source": [
    "<a id=\"0\"></a>\n",
    "<div style=\"text-align: center; color: #1877F2\">\n",
    "  <h1>Hydrologic Design 4501</h1>\n",
    "</div>\n",
    "\n",
    "<div style=\"text-align: center; font-weight: bold;\">\n",
    "  Chapter 3: Solar Radiation and Surface Energy Balance\n",
    "</div>\n",
    "\n",
    "<div style=\"text-align: center; margin-bottom: 0.5em;\">\n",
    "  Mohammadali Olyaei and Ardehsir Ebtehaj\n",
    "</div>\n",
    "\n",
    "<div style=\"text-align: center; font-weight: bold;\">\n",
    "  University of Minnesota\n",
    "</div>"
   ]
  },
  {
   "cell_type": "markdown",
   "metadata": {},
   "source": [
    "<a id=\"1\"></a>\n",
    "# 1- Radiative Energy"
   ]
  },
  {
   "cell_type": "markdown",
   "metadata": {},
   "source": [
    "**Heat energy** can be transferred via different mechanisms including:\n",
    "\n",
    "1- **Conduction**: Transfer of heat energy (or any conserved quantity like mass) through molecular diffusion. This is the main mechanism in transfer of heat energy in solid materials.\n",
    "2- **Advection**: Transfer of a heat energy via bulk displacement of matter, which can take place in fluids or soft solids. \n",
    "\n",
    "3- **Convection**: Transfer of a heat via bulk displacement of matter and turbulent diffusion. Convection, can take place in fluids and soft solids or mixtures where particles can move past each other due to turbulence. Turbulent diffusion is much stronger than molecular diffusion and is due to random and chaotic swirls of motions of fluid particles. When a flow is turbulent, molecular diffusion is negligible compared to the turbulent diffusion. In turbulent flows, the fluid velocity is often high and thus the trasport mechnisam is due to a mixture of advection and turbulent diffusion, which we often call convection. \n",
    "\n",
    "4- **Radiation**: Transfer of heat energy by means of **electromagnetic waves**, with or without any intervening physical medium. \n",
    "\n",
    "The **Sun** is the main source of heat energy behind hydrologic, atmospheric, and oceanic circulation. Because of the differential radiative heating and thus temperature gradient from equators to poles, heat fluxes are formed to balance the uneven distribution of heat. \n",
    "\n",
    "As we discussed, this **differential heating** generates large-scale **pressure gradients** and thus circulation patterns from equators to pole and vice versa that the drive the hydrologic cycle. The circulation cells (e.g., Hadly or Ferrel cells) are often called convective cells because convection is the main mechanism behind the large-scale transport of heat and water vapor in the Earth's atmosphere.\n",
    "\n",
    "**Electromagnetic waves** are formed by elementary particle, called **photons**, travel at the speed of light at different  wavelengths  [m]:\n",
    "\n",
    "$$\\lambda =cT,$$\n",
    "\n",
    "where $c=3\\times 10^8$ $\\left\\lbrack {\\textrm{ms}}^{-1} \\right\\rbrack$ is the speed of light, $T$ is the wave period $\\left\\lbrack \\mathrm{s}\\right\\rbrack$. Often, we express $\\lambda \\nu =c$, where $\\nu =1/T$ is the frequency in Hertz [Hz]. As shown, the **wavelength** is the distance between two crests of a wave.\n",
    "\n",
    "<div style=\"text-align: center;\">\n",
    "  <img src=\"Figures/Ch3/Ch3F1.png\" alt=\"Figure 1\" style=\"width: auto; height: 250px;\">\n",
    "</div>\n",
    "\n",
    "A body of mass with a temperature above zero Kelvin emits radiative energy, which will be characterize later through the **Planck's law**.\n",
    "  \n",
    "The electromagnetic energy (EM) spreads across different wavelengths forming a spectrum shown in the following figure. \n",
    "\n",
    "<div style=\"text-align: center;\">\n",
    "  <img src=\"Figures/Ch3/Ch3F2.png\" alt=\"Figure 2\" style=\"width: 600px; height: auto;\">\n",
    "</div>\n",
    "<div style=\"text-align: center\">\n",
    "The wavelength of interests for hydrologists may include ultra-violet, visible, infrared, and microwave bands. \n",
    "</div>\n",
    "\n",
    "It is worth nothing that almost 50% of the Earth heating is coming from the Sun's radiative energy in infrared bands, which has important implications on global warming. \n",
    "\n",
    "To properly quantify the EM radiative energy we first need to define some definitions and terminology as follows:\n",
    "\n",
    "**Radiance**: The **radiant energy** coming from a specific direction passing through a unit area perpendicular to that direction per unit time $\\left\\lbrack {\\textrm{Wm}}^{-2} {\\textrm{sr}}^{-1} \\right\\rbrack$, where steradian $\\left\\lbrack \\textrm{sr}\\right\\rbrack$ is the unit of solid angle capturing the directinality of EM waves. Spectral radiance is the radiance per wavelength $\\left\\lbrack {\\textrm{Wm}}^{-2} {\\textrm{sr}}^{-1} {\\mathrm{m}}^{-1} \\right\\rbrack$ or frequency $\\left\\lbrack {\\textrm{Wm}}^{-2} {\\textrm{sr}}^{-1} {\\textrm{Hz}}^{-1} \\right\\rbrack$.\n",
    "\n",
    "\n",
    "**Irradiance**: The **radiant energy** passing through a unit area per unit time integrated over all solid angles $\\left\\lbrack {\\textrm{Wm}}^{-2} \\right\\rbrack$. Similarly, spectral irradiance is the irradiance per unit wavelength $\\left\\lbrack {\\textrm{Wm}}^{-2} {\\mathrm{m}}^{-1} \\right\\rbrack$ or frequency $\\left\\lbrack {\\textrm{Wm}}^{-2} {\\textrm{Hz}}^{-1} \\right\\rbrack$ \n",
    "\n",
    "<div style=\"text-align: center;\">\n",
    "  <img src=\"Figures/Ch3/Ch3F3.png\" alt=\"Figure 3\" style=\"width: 300px; height: auto;\">\n",
    "</div>\n",
    "\n",
    "\n",
    "<div style=\"text-align: center\">\n",
    "Schematic of the solid angle and its unit (steradian).  A steradian is the solid angle facing an area of . Clearly, a sphere is  steradians.\n",
    "</div>"
   ]
  },
  {
   "cell_type": "markdown",
   "metadata": {},
   "source": [
    "## 1-2 Blackbody and Graybody Radiation\n",
    "\n",
    "A **blackbody** is a hypothetical physical object that absorbs all incident EM radiation. \n",
    "\n",
    "**Planck's law**: The emitted radiation by a blackbody at temperature $T$ [K], in terms of spectral radiances, as a function of wavelength $\\lambda$ or frequency $\\nu$ is expressed as follows:\n",
    "\n",
    "$$B_{\\lambda } =\\frac{2hc^2 }{\\lambda^5 \\left(e^{\\frac{hc}{\\lambda \\kappa_B T}} -1\\right)}~~{[\\mathrm{W}{\\mathrm{m}}^{-2} \\mathrm{s}{\\mathrm{r}}^{-1} {\\mathrm{m}}^{-1} ]}~~\\textrm{or}~~B_{\\nu } =\\frac{2h\\nu^3 }{c^2 \\left(e^{\\frac{h\\nu }{\\kappa_B T}} -1\\right)}\\,\\,{[\\mathrm{W}{\\mathrm{m}}^{-2} \\mathrm{s}{\\mathrm{r}}^{-1} \\,\\mathrm{H}{\\mathrm{z}}^{-1} ]},$$\n",
    "\n",
    "where $\\kappa_B =1.38064\\times 10^{-23}$ $\\left\\lbrack \\mathrm{J}\\;{\\mathrm{K}}^{-1} \\right\\rbrack$ is the Boltzmann constant and $h=6.626\\times 10^{-34}$ $\\left\\lbrack \\mathrm{J}\\;{\\mathrm{s}}^{-1} \\right\\rbrack$ represents the Planck's constant. \n",
    "\n",
    "<div style=\"text-align: center;\">\n",
    "  <img src=\"Figures/Ch3/Ch3F4.png\" alt=\"Figure 4\" style=\"width: 600px; height: auto;\">\n",
    "</div>\n",
    "\n",
    "<div style=\"text-align: center\">\n",
    "Planck's law as a function of temperature and wavelength. Note that the y-axis is in logarithm scale. The yellow and red curves denote the law for average temperature of the Sun and Earth. The blue line shows the Wien's displacement law explained below.\n",
    "</div>\n",
    "\n",
    "**Wien's displacement law**:  explains the wavelengths over which the Plank's law is maximum as a function of temperature :\n",
    "\n",
    "$$\\frac{\\partial B_{\\lambda } }{\\partial \\lambda }=0\\Rightarrow \\lambda_{\\max } =\\frac{2897}{T}~~[\\mu \\textrm{m}],$$\n",
    "\n",
    "The **Stefan-Boltzmann law** can be obtained by integrating the Planck's law in irradiance units () over all wavelengths or frequencies as follows:\n",
    "\n",
    "$$ B = \\int_\\lambda 4\\, \\pi B_{\\lambda} d\\lambda=\\sigma T^{4}. \\quad {\\rm [Wm^{-2}]} $$\n",
    "\n",
    "As a result, one can see that the Stefan-Boltzmann law describes radiative energy as **irradiance across all wavelengths**, where $\\sigma =5.67037\\times 10^{-8}$ $\\left\\lbrack {\\textrm{Wm}}^{-2} {\\mathrm{K}}^{-4} \\right\\rbrack$ is the Stefan-Boltzmann constant.\n",
    "\n",
    "**Graybody**: Unlike a blackbody, natural objects are gray bodies, as they only absorb and thus emit a fraction of incident radiation and not all of it like a balck body. Radiation of a graybody is different than a blackbody up to a proportionality constant:\n",
    "\n",
    "$$R_{\\lambda } =\\epsilon_{\\lambda } B_{\\lambda } ,$$\n",
    "\n",
    "where the dimensionless coefficient $0<\\epsilon_{\\lambda } <1$ is called **spectral emissivity**. As is clear, emissivity is an spectral quantity, which varies at different wavelengths (frequencies). Therefore, one can integrate spectral emissivity over all wavelengths $\\epsilon =\\int_{\\lambda } \\epsilon_{\\lambda } \\,d\\lambda$ to obtain the so-called **broadband emissivity**. \n",
    "\n",
    "As a result, the Stefan-Boltzmann law for a graybody can be expressed as follows:\n",
    "\n",
    "$$R=\\epsilon \\sigma T^4 ~~{[\\mathrm{W}{\\mathrm{m}}^{-2} ]}$$\n",
    "\n",
    "**Kirchhoff's Law**: For an object with constant temperature, the absorbed radiative energy is equal to the emitted radiative energy. Therefore, absorptivity and emissivity are equal , when an object is in thermodynamic equilibrium."
   ]
  },
  {
   "cell_type": "markdown",
   "metadata": {},
   "source": [
    "## 1-3 Short- and Long-wave Radiation\n",
    "In study of the Earth systems, we typically divide the EM spectrum into **shortwave** and **longwave** segments. The main reason is that the temperature of the Sun and the Earth are drastically different and thus the wavelengths of their radiation. According to the Wien's displacement law we have:\n",
    "\n",
    "$$T_{{\\mathrm{S}\\mathrm{u}\\mathrm{n}}} \\approx 6000^{\\circ } K\\to \\lambda_{max} \\approx 0.48\\,\\,\\mu m,$$\n",
    "\n",
    "$$T_{{\\mathrm{E}\\mathrm{a}\\mathrm{r}\\mathrm{t}\\mathrm{h}}} \\approx 300^{\\circ } K\\to \\lambda_{max} \\approx 10\\,\\mu m.$$\n",
    "\n",
    "<div style=\"text-align: center;\">\n",
    "  <img src=\"Figures/Ch3/Ch3F5.png\" alt=\"Figure 5\" style=\"width: 700px; height: auto;\">\n",
    "</div>\n",
    "\n",
    "Solar shortwaves ($0.1\\le \\lambda \\le 4\\mu m$) versus terrestrial longwaves ($4\\le \\lambda \\le 200\\mu m$).\n",
    "\n",
    "It can be shown that the solar radiation above 4 $\\mu m$  is almost negligible. Therefore, by convention, we have:\n",
    "\n",
    "$$ {\\rm Shortwave \\,\\, radiation} = \\int_{0.1}^{4 \\mu m} R_{\\lambda} d\\lambda $$\n",
    "\n",
    "$$ {\\rm Longwave\\,\\, radiation} = \\int_{4}^{200 \\mu m} R_{\\lambda} d\\lambda  \\quad \\,{\\rm [Wm^{-2}]}. $$\n",
    "\n",
    "-    **Shortwave radiation contains: ultra-violet + visible + near-infrared + mid-infrared** (1.3-3.0 } $\\mu \\;m$ \n",
    "- **Longwave radiation contains: mid-infrared + far-infrared**\n"
   ]
  },
  {
   "cell_type": "markdown",
   "metadata": {},
   "source": [
    "## 1-4 Absorption, Reflection and Transmission\n",
    "\n",
    "Any incident radiation upon a medium will be **absorbed**, **scattered**, or **transmitted**. \n",
    "\n",
    "- **Absorption** is a process that removes the radiant energy from an EM field and transfers it into the internal energy of the absorber. When absorption is significant (negligible) the medium is called lossy (lossless). \n",
    "- **Scattering or Reflection** is a process that does not remove the energy from the EM field, but redirects it. **Scattering** often occurs through a volume (atmospheric depth). However, **reflection** occurs at the interface of two materials that could be diffuse (incoherent) and/or specular (coherent). \n",
    "- **Extinction** or **Attenuation** is total effect of absorption + scattering.\n",
    "- **Transmission**: is the radiant energy that passes through a medium with or without any attenuation.\n",
    "\n",
    "<div style=\"text-align: center;\">\n",
    "  <img src=\"Figures/Ch3/Ch3F6.png\" alt=\"Figure 6\" style=\"width: 400px; height: auto;\">\n",
    "  <img src=\"Figures/Ch3/Ch3F7.png\" alt=\"Figure 7\" style=\"width: 400px; height: auto;\">\n",
    "</div>\n",
    "\n",
    "<div style=\"text-align: center;\">\n",
    "  <img src=\"Figures/Ch3/Ch3F8.png\" alt=\"Figure 8\" style=\"width: 400px; height: auto;\">\n",
    "</div>\n",
    "\n",
    "The radiative energy balance at an interface can be written as:\n",
    "\n",
    " $$R_{\\lambda } ={\\mathcal{A}}_{\\lambda } +{\\mathcal{S}}_{\\lambda } +{\\mathcal{T}}_{\\lambda } ~~\\Rightarrow ~~\\frac{{\\mathcal{A}}_{\\lambda } }{R_{\\lambda } }+\\frac{{\\mathcal{S}}_{\\lambda } }{R_{\\lambda } }+\\frac{{\\mathcal{T}}_{\\lambda } }{R_{\\lambda } }=1~~\\Rightarrow ~~a_{\\lambda } +s_{\\lambda } +\\tau_{\\lambda } =1,$$\n",
    "\n",
    "\n",
    "where $a_{\\lambda }$ is **absorptivity**, $s_{\\lambda }$ is **reflectivity** and $\\tau_{\\lambda }$ denotes **transmissivity**.\n",
    "\n",
    "Often some of the terms in the above radiation balance equation are negligible:\n",
    "\n",
    "- **Within the atmosphere** longwave scattering is often negligible during the clear sky condition (see the following figure).\n",
    "- **At the Earth's surface** both long and shortwave transmissivity are negligible. Therefore, for **shortwave radiation**, we have $a_s +s_s =1$. The **shortwave reflectivity** coefficient at the Earth surface is called **albedo** and denoted by  in hydrologic community, which leads to  $\\alpha =1-a_s$, where $a_s \\;$ is the short-wave absorption coefficient.\n",
    "\n",
    "\n",
    "<div style=\"text-align: center;\">\n",
    "  <img src=\"Figures/Ch3/Ch3F9.png\" alt=\"Figure 9\" style=\"width: 600px; height: auto;\">\n",
    "</div>"
   ]
  },
  {
   "cell_type": "markdown",
   "metadata": {},
   "source": [
    "# 4- Solar Radition at Top of the Atmosphere\n",
    "\n",
    "To understand hydrologic cycle, it is key to know that how much of the Sun's energy will reach to the earth's surface and what will be its distribution. Using the Stefan-Boltzmann law, we have:\n",
    "\n",
    "$$R=\\sigma T^4 =5.67\\times 10^{-8} \\times 5780^4 =6.33\\times 10^7 ~~[{\\mathrm{W}\\,{\\mathrm{m}}^{-2} ].}$$\n",
    "\n",
    "In far-field radiation, basically it is reasonable to assume that the radiation beams are parallel. Therefore, given that:\n",
    "\n",
    "-  $d\\textrm{=1.496}\\times 10^6 \\;$ [km] (Sun-Earth distance) \n",
    "-  $r_s$=696,300 [km] (Sun radius) \n",
    "-  $r_e$=6371 [km] (Earth radius) \n",
    "\n",
    "\n",
    "Assuming that $r_e \\ll r_s \\ll d$, one can easily compute the intensity of solar radiative energy at top of the atmosphere as follows:\n",
    "\n",
    "$$ {\\rm Solar\\, constant}  = I_{\\rm sc} \\approx  6.33\\times10^7\\times\\frac{r_s^2}{d^2}\\approx1367\\quad {\\rm [W\\,m^{-2}]} $$\n",
    "\n",
    "<div style=\"text-align: center;\">\n",
    "  <img src=\"Figures/Ch3/Ch3F10.png\" alt=\"Figure 10\" style=\"width: 600px; height: auto;\">\n",
    "</div>\n",
    "\n",
    "Recent detailed calculation by NASA using satellite observations shows that the solar constant varies between 1361-1362 $\\left\\lbrack \\mathrm{W}\\;{\\mathrm{m}}^{-2} \\right\\rbrack$ at the top of the atmosphere. However, it is still customary to use 1367 $\\left\\lbrack \\mathrm{W}\\;{\\mathrm{m}}^{-2} \\right\\rbrack$  in hydrologic analysis as the **solar constant**. \n",
    "\n",
    "**Question:** Why does the earth surface receive a non-uniform amount of radiative energy?\n",
    "\n",
    "- Earth is an ellipse (not a flat plane) and rotates around its central axis passing through its poles.\n",
    "- Earth's axis of rotation is **tilted** by $23.5^{\\circ }$ with respect to its orbital plane, which is the main reason for experienced **seasonality** in the earth's climate. \n",
    "- Earth's orbit is slightly elliptical and thus the earth's distance to the sun is variable and thus the lengths of days and nights keep changing throughout the year. \n",
    "\n",
    "<div style=\"text-align: center;\">\n",
    "  <img src=\"Figures/Ch3/Ch3F11.png\" alt=\"Figure 11\" style=\"width: 800px; height: auto;\">\n",
    "  <img src=\"Figures/Ch3/Ch3F12.png\" alt=\"Figure 12\" style=\"width: 600px; height: auto;\">\n",
    "</div>\n",
    "\n",
    "Schematic of global insolation and effects of earth geometry on distribution of the solar radiation on earth surface (left). The earth axis of rotation is tilted with respect to its orbital plane, which is in fact the main reason for seasonality of earth's climate (middle). The **solar zenith angle** ($\\theta_z$), encodes the reduction on the intensity of radiation over higher latitudes, while $\\phi \\;$ is the so-called solar azimuth angle, which determines the planar orientation of solar incident radiation with respect to north.\n",
    "\n",
    "**Insolation** ($R_s$) is the **intensity** of Sun's radiative energy received at top of the atmosphere that accounts for the fact that the incident radiation beams are not always perpendicular to the surface:\n",
    "\n",
    "$$\\textrm{Total}\\;\\textrm{power=}\\;\\textrm{intensity}\\times {\\mathrm{a}\\mathrm{r}\\mathrm{e}\\mathrm{a}}=I_{sc} \\times A=R_s \\times \\frac{A}{\\cos \\theta_z }.$$\n",
    "\n",
    "Thus $R_s \\le I_s$ and  the solar insolation is,\n",
    "\n",
    "$$R_s =I_{sc} \\,\\cos \\,\\theta_z .$$\n",
    "\n",
    "**Summer Solstice (June 20 or 21)** refers to the longest day in the Northern Hemisphere. As is evident, summer solstice occurs while the Earth Northern Hemisphere is at its closest distance to the Sun and receives its maximum annual daily radiation budget. Analogously, while the Northern Hemisphere is at its longest distance with the Sun throughout the year, it experiences the longest night of the year. The day of **Dec 21 or 22** is the **Winter Solstice in the Northern Hemisphere** while it is summer solstice in the Southern Hemisphere.\n",
    "When the Earth's celestial/equatorial plane passes through the center of the Sun, the day and night are equal. These days (**Sep 22 or 23 or Mar 20 or 21**) are called **Equinoxes**.\n",
    "\n",
    "<div style=\"text-align: center;\">\n",
    "  <img src=\"Figures/Ch3/Ch3F13.png\" alt=\"Figure 13\" style=\"width: 800px; height: auto;\">\n",
    "</div>"
   ]
  },
  {
   "cell_type": "markdown",
   "metadata": {},
   "source": [
    "# 5- Net Radiation at the Earth Surface\n",
    "\n",
    "In order to understand hydrologic fluxes at the surface, we need to know that how solar radiation partitions between the Earth's surface and its atmosphere. This partitioning is dynamic depending on the earth rotation and atmospheric and surface compositions such as **cloud and snow cover**. Recent analysis of the attenuation of the incoming solar radiative energy within the Earth's atmosphere shows that, **on average**, Earth has a **planetary albedo of around 30%**, while nearly **23% of solar insolation is absorbed by the atmosphere and clouds**, leaving around **47% of the insolation reaching the Earth's surface** (Trenberth, 2009).\n",
    "\n",
    "<div style=\"text-align: center;\">\n",
    "  <img src=\"Figures/Ch3/Ch3F14.png\" alt=\"Figure 14\" style=\"width: 700px; height: auto;\">\n",
    "</div>"
   ]
  },
  {
   "cell_type": "markdown",
   "metadata": {},
   "source": [
    "## 5-1 Net Radiation\n",
    "More specifically, we must determine the net input/output of short and longwave radiation at the Earth's surface, known as the Net Radiation ${[\\mathrm{W}{\\mathrm{m}}^{-2} ]}$. \n",
    "\n",
    "$$R_n =R_{is} (1-\\alpha )+\\epsilon_o R_{il} -R_{ol} ,$$\n",
    "\n",
    "where $R_n$ is the net radiation at he Earth's surface, $R_{is} \\;$ is the incoming shortwave radiation, $\\alpha \\;$ is the earth surface albedo, $\\epsilon_0$ is the longwave surface emissivity, $R_{il}$ is the incoming longwave radiation, and $R_{ol}$ is the outgoing longwave radiation. \n",
    "\n",
    "There are many empirical relations to estimate $R_{is}$ based on location, season, and atmospheric condition, while the longwave components can be estimated using the Stefan-Boltzmann law\n",
    "\n",
    "$$R_{il} =\\epsilon_a \\sigma T_a^4 ~~~~R_{ol} =\\epsilon_0 \\sigma ~T_0^4$$\n",
    "\n",
    "where $T_a$ and $T_0$ represent the average air and surface temperatures in Kelvin and $\\sigma =5.67037\\times 10^{-8}$ $\\left\\lbrack {\\textrm{Wm}}^{-2} {\\mathrm{K}}^{-4} \\right\\rbrack$ is the Stefan-Boltzmann constant. \n",
    "\n",
    "<div style=\"text-align: center;\">\n",
    "  <img src=\"Figures/Ch3/Ch3F15.png\" alt=\"Figure 15\" style=\"width: 600px; height: auto;\">\n",
    "</div>\n",
    "\n",
    "The longwave surface emissivity $\\epsilon_0$ for different land surface type is as follows (Aria 2001):\n",
    "\n",
    "\n",
    "- Water (0.92-0.97)\n",
    "- Old snow (0.82-0.89)\n",
    "- Fresh snow (0.90-0.99)\n",
    "- Ice (0.92-0.97) \n",
    "- Bare soil (0.84-0.97) \n",
    "- Long grass with 1 m height (0.90) \n",
    "- Short grass with less than 5 cm height (0.95) \n",
    "- Crops (0.90-0.99) \n",
    "- Forests (0.97-0.99)\n",
    "\n",
    "The surface albedos $\\alpha \\;$ for different land surface type is as follows (Aria 2001):\n",
    "\n",
    "- Water (0.03-0.1)\n",
    "- Old snow (0.4-0.7) \n",
    "- Fresh snow (0.45-0.95)\n",
    "- Sea ice (0.5-0.7)\n",
    "- Fresh water ice (0.2-0.45)\n",
    "- Bare soil (0.05-0.40)\n",
    "- Long grass with 1 m height (0.16)\n",
    "- Short grass with less than 5 cm height (0.25)\n",
    "- Crops (0.1-0.25)\n",
    "- Forests (0.05-0.20)\n",
    "\n",
    "Longwave atmospheric emissivity $\\epsilon_a$ depends on profile of atmospheric consituents and temperature. However, the most important variable is water vapor concentration. There are multiple empirical models for $\\epsilon_a$. Some of them are noted below:\n",
    "\n",
    "\n",
    "  - $\\epsilon {\\;}_a =0\\ldotp 605+0\\ldotp 048e_a^{0\\ldotp 5}$, where $e_a$ is near surface water vapor pressure in [mbar] (Brunt, 1932)\n",
    "  - $\\epsilon_a =1\\ldotp 24{\\left(\\frac{e_a }{T_a }\\right)}^{0\\ldotp 14}$, where $e_a$ is near surface water vapor pressure in [mbar] and $T_a$ is the near surface air temperature in Kelvin (Brutsaert, 1975) \n",
    "  - $\\epsilon_a =1-\\left(1+{\\mathcal{w}}_p \\right)\\exp \\;\\left(-\\sqrt{\\;1\\ldotp 2+3{\\mathcal{w}}_{p\\;} }\\right)$, where ${\\mathcal{w}}_p$ is the total precipitable water in [cm]. "
   ]
  },
  {
   "cell_type": "markdown",
   "metadata": {},
   "source": [
    "**Example Problem 3.1:** For a vapor pressure of 1250 [Pa], temperature of 25 [C] and air pressure of 98000 [Pa] estimate the clear-sky downwelling longwave radiation using the Brutsaert and Brunt emissivity models. How do the estimates differ and how would they change in cloudy conditions? Also compute the upwelling longwave radiation from the surface assuming it is covered by a long-grass surface with a surface temperature of 28 degree Celsius.\n",
    "\n",
    "Solutions:"
   ]
  },
  {
   "cell_type": "code",
   "execution_count": 1,
   "metadata": {},
   "outputs": [],
   "source": [
    "#Download Moduels \n",
    "import numpy as np\n",
    "import pandas as pd\n",
    "import matplotlib.pyplot as plt"
   ]
  },
  {
   "cell_type": "code",
   "execution_count": 4,
   "metadata": {},
   "outputs": [
    {
     "name": "stdout",
     "output_type": "stream",
     "text": [
      "Rl_brut in Brutsaert model: 356.36 W/m^2\n"
     ]
    }
   ],
   "source": [
    "# Brutsaert model\n",
    "e_a = 1250 / 100  # 12.5 [mbar] of air vapor pressure\n",
    "T_a = 25 + 273.15  # [K]\n",
    "eps_0 = 0.90  # surface emissivity [-]\n",
    "T_g = 28 + 273.15  # ground temperature [K]\n",
    "sig = 5.67 * 10**-8  # Stefan-Boltzmann constant [Wm^-2K^-4]\n",
    "\n",
    "# Brutsaert model\n",
    "eps_a_brut = 1.24 * (e_a / T_a)**0.14\n",
    "Rl_brut = eps_a_brut * sig * T_a**4  # [Wm^-2]\n",
    "\n",
    "# Output the result\n",
    "print(f\"Rl_brut in Brutsaert model: {Rl_brut:.2f} W/m^2\")"
   ]
  },
  {
   "cell_type": "code",
   "execution_count": 6,
   "metadata": {},
   "outputs": [
    {
     "name": "stdout",
     "output_type": "stream",
     "text": [
      "Rl_brut in Brunt model: 347.10 W/m^2\n"
     ]
    }
   ],
   "source": [
    "# Brunt model\n",
    "eps_a_brun = 0.605+0.048*(e_a)**0.5;\n",
    "Rl_brun = eps_a_brun*sig*(T_a)**4; # [Wm^-2]\n",
    "print(f\"Rl_brut in Brunt model: {Rl_brun:.2f} W/m^2\")"
   ]
  },
  {
   "cell_type": "code",
   "execution_count": 7,
   "metadata": {},
   "outputs": [
    {
     "name": "stdout",
     "output_type": "stream",
     "text": [
      "R_ul: 419.72\n"
     ]
    }
   ],
   "source": [
    "# Long-wave radiation increases for a cloudy sky as the concentration of\n",
    "# water vapor and liquid water increase. \n",
    "\n",
    "# Upweling longwave surface radiation:\n",
    "R_ul = eps_0*sig*T_g**4; # [Wm^-2]\n",
    "print(f\"R_ul: {R_ul:.2f}\")"
   ]
  },
  {
   "cell_type": "markdown",
   "metadata": {},
   "source": [
    "## 5-2 Surface Energy Balance\n",
    "\n",
    "The net radiation at the earth surface is partitioned into three components to create the **Surface Energy Balance (SEB)**:\n",
    "\n",
    "$$R_n =LE+H+G~~~~[{\\mathrm{W}{\\mathrm{m}}^{-2} ]}$$\n",
    "\n",
    "where $LE$ is the **latent heat flux**, $H$ is the **sensible heat flux,** and $G$ is the **ground heat flux**.  We will discuss these very important components in the lessons on evaporation.  However, as way of review, below is a figure of the estimated global energy budget containing the components discussed in this section.\n",
    "\n",
    "<div style=\"text-align: center;\">\n",
    "  <img src=\"Figures/Ch3/Ch3F16.png\" alt=\"Figure 16\" style=\"width: 600px; height: auto;\">\n",
    "</div>\n",
    "\n",
    "The global annual mean Earth's energy budget for 2000 to 2005 ${[\\mathrm{W}{\\mathrm{m}}^{-2} ]}$ (Trenberth et al. 2009)."
   ]
  },
  {
   "cell_type": "markdown",
   "metadata": {},
   "source": [
    "**Example Problem 3.2:** We have the following information: vapor pressure of 1500 Pa, air temperature is equal to $T_a =20{\\;}^{\\circ } \\mathrm{C}$, $P = 98,000 Pa$. The surface soil tempertaure is $T_0 =30{\\;}^{\\circ } \\mathrm{C}$. Estimate the clear sky downwelling long-wave radiation assuming that $\\epsilon_a =1\\ldotp 24{\\left(\\frac{\\;e_a }{T_a }\\right)}^{0\\ldotp 14}$, where $e_a$ is the partial water vapor pressure in mbar and air tempertaure is in Kelvin. Additionally, compute the outgoing long-wave radiation with earth surface emissivity $\\epsilon_0 =0\\ldotp 95$.  Compute the net radiation when the shortwave incoming solar radiatoin is 410 $\\left\\lbrack \\mathrm{W}\\;{\\mathrm{m}}^{-2} \\right\\rbrack$ and the surface albedo is 0.15. Is the surface soil warming or cooling?"
   ]
  },
  {
   "cell_type": "markdown",
   "metadata": {},
   "source": [
    "solutions: \n",
    "\n",
    "$R_n =\\left(1-\\alpha \\;\\right)R_{\\textrm{is}}^{\\downarrow } +\\epsilon_0 R_{\\textrm{il}}^{\\downarrow } -R_{\\textrm{ol}}^{\\uparrow }$\n",
    "\n",
    "$\\begin{array}{l}\n",
    "R_{\\textrm{il}}^{\\downarrow } =\\epsilon_a \\sigma \\;T_a^4 \\\\\n",
    "R_{\\textrm{ol}}^{\\uparrow } =\\epsilon_0 \\sigma \\;T_0^4 \n",
    "\\end{array}$\n",
    "\n",
    "$\\epsilon_a =1\\ldotp 24{\\left(\\frac{\\;e_a }{T_a }\\right)}^{0\\ldotp 14} =1\\ldotp 24{\\left(\\frac{\\;15}{20+273\\ldotp 15}\\right)}^{0\\ldotp 14} =0\\ldotp 81$\n",
    "\n",
    "$\\begin{array}{l}\n",
    "R_{\\textrm{il}}^{\\downarrow } =\\epsilon_a \\sigma \\;T_a^4 =0\\ldotp 81\\times 5\\ldotp 67\\times {10}^{-8} \\times {\\left(20+273\\ldotp 15\\right)}^4 =342\\;\\;\\left\\lbrack {\\textrm{Wm}}^{-2} \\right\\rbrack \\\\\n",
    "R_{\\textrm{ol}}^{\\uparrow } =\\epsilon_0 \\sigma \\;T_0^4 =0\\ldotp 95\\times 5\\ldotp 67\\times {10}^{-8} \\times {\\left(30+273\\ldotp 15\\right)}^4 =392\\;\\left\\lbrack {\\textrm{Wm}}^{-2} \\right\\rbrack \n",
    "\\end{array}$\n",
    "\n",
    "$R_n =(1-0.15)\\times 410+0.95\\times 342-392=292.5 \\; [{\\textrm{Wm}}^{-2}] $\n"
   ]
  },
  {
   "cell_type": "code",
   "execution_count": 9,
   "metadata": {},
   "outputs": [
    {
     "name": "stdout",
     "output_type": "stream",
     "text": [
      "R_il: 342.47 W/m^2\n"
     ]
    }
   ],
   "source": [
    "R_is = 410  # [W.m^-2]\n",
    "e_a = 15  # [mbar]\n",
    "T_a = 20  # [C]\n",
    "T_0 = 30  # [C]\n",
    "sig = 5.67 * 10**-8  # [W.m^-2.K^-4]\n",
    "eps_0 = 0.98  # [-]\n",
    "alpha = 0.15  # [-]\n",
    "\n",
    "eps_a = 1.24 * (e_a / (T_a + 273.15))**0.14  # Air emissivity [-]\n",
    "R_il = eps_a * sig * (T_a + 273.15)**4  # # Incoming long-wave radiation\n",
    "\n",
    "print(f\"R_il: {R_il:.2f}\")"
   ]
  },
  {
   "cell_type": "code",
   "execution_count": 11,
   "metadata": {},
   "outputs": [
    {
     "name": "stdout",
     "output_type": "stream",
     "text": [
      "R_ol: 391.65\n"
     ]
    }
   ],
   "source": [
    "R_ol = eps_a*sig*(T_0+273.15)**4      # outgoing long-wave radiation\n",
    "print(f\"R_ol: {R_ol:.2f}\")"
   ]
  },
  {
   "cell_type": "code",
   "execution_count": 12,
   "metadata": {},
   "outputs": [
    {
     "name": "stdout",
     "output_type": "stream",
     "text": [
      "R_n: 292.47\n"
     ]
    }
   ],
   "source": [
    "R_n = (1-alpha)*R_is+eps_0*R_il-R_ol  # Net radiaton at the surface\n",
    "print(f\"R_n: {R_n:.2f}\")"
   ]
  }
 ],
 "metadata": {
  "kernelspec": {
   "display_name": "base",
   "language": "python",
   "name": "base"
  },
  "language_info": {
   "codemirror_mode": {
    "name": "ipython",
    "version": 3
   },
   "file_extension": ".py",
   "mimetype": "text/x-python",
   "name": "python",
   "nbconvert_exporter": "python",
   "pygments_lexer": "ipython3",
   "version": "3.8.8"
  }
 },
 "nbformat": 4,
 "nbformat_minor": 2
}
